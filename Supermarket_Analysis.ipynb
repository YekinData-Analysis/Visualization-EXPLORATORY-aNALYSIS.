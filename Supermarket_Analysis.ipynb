{
 "cells": [
  {
   "cell_type": "markdown",
   "id": "b895972f",
   "metadata": {},
   "source": [
    "# >>SuperMarket_Sales_Anlaysis"
   ]
  },
  {
   "cell_type": "code",
   "execution_count": 1,
   "id": "c95694bb",
   "metadata": {},
   "outputs": [],
   "source": [
    "#let import the necessarry library \n",
    "\n",
    "import numpy as np\n",
    "import pandas as pd\n",
    "import seaborn as sns\n",
    "import matplotlib.pyplot as plt\n",
    "from collections import Counter"
   ]
  },
  {
   "cell_type": "code",
   "execution_count": 2,
   "id": "058e3f53",
   "metadata": {},
   "outputs": [
    {
     "name": "stdout",
     "output_type": "stream",
     "text": [
      "<class 'pandas.core.frame.DataFrame'>\n",
      "RangeIndex: 1000 entries, 0 to 999\n",
      "Data columns (total 17 columns):\n",
      " #   Column                   Non-Null Count  Dtype  \n",
      "---  ------                   --------------  -----  \n",
      " 0   Invoice ID               1000 non-null   object \n",
      " 1   Branch                   1000 non-null   object \n",
      " 2   City                     1000 non-null   object \n",
      " 3   Customer type            1000 non-null   object \n",
      " 4   Gender                   1000 non-null   object \n",
      " 5   Product line             1000 non-null   object \n",
      " 6   Unit price               1000 non-null   float64\n",
      " 7   Quantity                 1000 non-null   int64  \n",
      " 8   Tax 5%                   1000 non-null   float64\n",
      " 9   Total                    1000 non-null   float64\n",
      " 10  Date                     1000 non-null   object \n",
      " 11  Time                     1000 non-null   object \n",
      " 12  Payment                  1000 non-null   object \n",
      " 13  cogs                     1000 non-null   float64\n",
      " 14  gross margin percentage  1000 non-null   float64\n",
      " 15  gross income             1000 non-null   float64\n",
      " 16  Rating                   1000 non-null   float64\n",
      "dtypes: float64(7), int64(1), object(9)\n",
      "memory usage: 132.9+ KB\n"
     ]
    }
   ],
   "source": [
    "#READ THE DATA\n",
    "\n",
    "df=pd.read_csv(r'C:\\\\Users\\\\HP\\Downloads\\archive (3)\\supermarket_sales - Sheet1.csv')\n",
    "\n",
    "\n",
    "df.info()"
   ]
  },
  {
   "cell_type": "code",
   "execution_count": 3,
   "id": "78905c73",
   "metadata": {},
   "outputs": [
    {
     "data": {
      "text/html": [
       "\n",
       "This dataset contains 1000 rows of data with 13 columns. The columns include an index, Invoice ID, Branch, City, Customer type, Gender, Product line, Unit price, Quantity, Tax 5%, Total, Date, Time, Payment, cogs, gross margin percentage, gross income and Rating. The types of data in the columns are int64, object, float64 and object. There are 1000 unique values in each column and the head sample for each column is provided. Quantiles are also provided for each column. \n"
      ],
      "text/plain": [
       "<IPython.core.display.HTML object>"
      ]
     },
     "metadata": {},
     "output_type": "display_data"
    }
   ],
   "source": [
    "#WE IMPORT SKECTH SO AS TO GIVE A DETAIL ABOUT THE DATASET\n",
    "\n",
    "import sketch\n",
    "\n",
    "\n",
    "df.sketch.ask('tell us about the dataset ?')"
   ]
  },
  {
   "cell_type": "code",
   "execution_count": 4,
   "id": "5602e3d0",
   "metadata": {},
   "outputs": [
    {
     "data": {
      "text/html": [
       "\n",
       "<ul>\n",
       "  <li>index: A numerical index of the rows in the dataframe.</li>\n",
       "  <li>Invoice ID: A unique identifier for each invoice.</li>\n",
       "  <li>Branch: The branch from which the invoice was issued.</li>\n",
       "  <li>City: The city in which the branch is located.</li>\n",
       "  <li>Customer type: Whether the customer is a member or not.</li>\n",
       "  <li>Gender: The gender of the customer.</li>\n",
       "  <li>Product line: The type of product purchased.</li>\n",
       "  <li>Unit price: The price of each unit purchased.</li>\n",
       "  <li>Quantity: The number of units purchased.</li>\n",
       "  <li>Tax 5%: The amount of tax charged on the purchase.</li>\n",
       "  <li>Total: The total cost of the purchase including tax.</li>\n",
       "  <li>Date: The date on which the purchase was made.</li>\n",
       "  <li>Time: The time at which the purchase was made.</li>\n",
       "  <li>Payment: The payment method used for the purchase.</li>\n",
       "  <li>COGS: The cost of goods sold for the purchase.</li>\n",
       "  <li>Gross margin percentage: The percentage of gross margin for the purchase.</li>\n",
       "  <li>Gross income: The gross income from the purchase.</li>\n",
       "  <li>Rating: The rating given to the purchase by the customer.</li>\n",
       "</ul>\n"
      ],
      "text/plain": [
       "<IPython.core.display.HTML object>"
      ]
     },
     "metadata": {},
     "output_type": "display_data"
    }
   ],
   "source": [
    "#ASKING THE AI SKETCH TO TELL ME WHAT EXACTLLY EACH COLUMNS REPRESENT? \n",
    "\n",
    "df.sketch.ask('can you give me a friendly names and single sentence descriptions of each column ?(format output as HTML List)')"
   ]
  },
  {
   "cell_type": "code",
   "execution_count": 5,
   "id": "72e75917",
   "metadata": {},
   "outputs": [
    {
     "name": "stdout",
     "output_type": "stream",
     "text": [
      "**The Dataset is made of 1000 rows and 17 columns**\n"
     ]
    }
   ],
   "source": [
    "#the shape of the dataset!!!\n",
    "\n",
    "shape=df.shape\n",
    "\n",
    "print(f'**The Dataset is made of {shape[0]} rows and {shape[1]} columns**')"
   ]
  },
  {
   "cell_type": "code",
   "execution_count": 6,
   "id": "f5ae4a29",
   "metadata": {},
   "outputs": [
    {
     "data": {
      "text/plain": [
       "Text(0.5, 1.0, 'The Data Type of the Supermarket Data is made of?')"
      ]
     },
     "execution_count": 6,
     "metadata": {},
     "output_type": "execute_result"
    },
    {
     "data": {
      "image/png": "[encoded data removed]",
      "text/plain": [
       "<Figure size 1200x700 with 1 Axes>"
      ]
     },
     "metadata": {},
     "output_type": "display_data"
    }
   ],
   "source": [
    "#checking the data tyype our dataset is made up?\n",
    "\n",
    "df.dtypes.value_counts().plot.pie(figsize=(12,7),explode=[0.01,0.01,0.01],autopct='%1.2f')\n",
    "plt.title('The Data Type of the Supermarket Data is made of?',color='red')"
   ]
  },
  {
   "cell_type": "markdown",
   "id": "d2f1c11f",
   "metadata": {},
   "source": [
    ">Supermarket Dataset is made of 3 data type name float, int and object.\n",
    "\n",
    ">The Object is represent teh categorica data type\n",
    "\n",
    ">The FLoat represent decimal Number while the kint represent the whole Number."
   ]
  },
  {
   "cell_type": "code",
   "execution_count": 7,
   "id": "6c9a7e43",
   "metadata": {},
   "outputs": [
    {
     "data": {
      "text/html": [
       "<div>\n",
       "<style scoped>\n",
       "    .dataframe tbody tr th:only-of-type {\n",
       "        vertical-align: middle;\n",
       "    }\n",
       "\n",
       "    .dataframe tbody tr th {\n",
       "        vertical-align: top;\n",
       "    }\n",
       "\n",
       "    .dataframe thead th {\n",
       "        text-align: right;\n",
       "    }\n",
       "</style>\n",
       "<table border=\"1\" class=\"dataframe\">\n",
       "  <thead>\n",
       "    <tr style=\"text-align: right;\">\n",
       "      <th></th>\n",
       "      <th>Invoice ID</th>\n",
       "      <th>Branch</th>\n",
       "      <th>City</th>\n",
       "      <th>Customer type</th>\n",
       "      <th>Gender</th>\n",
       "      <th>Product line</th>\n",
       "      <th>Unit price</th>\n",
       "      <th>Quantity</th>\n",
       "      <th>Tax 5%</th>\n",
       "      <th>Total</th>\n",
       "      <th>Date</th>\n",
       "      <th>Time</th>\n",
       "      <th>Payment</th>\n",
       "      <th>cogs</th>\n",
       "      <th>gross margin percentage</th>\n",
       "      <th>gross income</th>\n",
       "      <th>Rating</th>\n",
       "    </tr>\n",
       "  </thead>\n",
       "  <tbody>\n",
       "    <tr>\n",
       "      <th>0</th>\n",
       "      <td>750-67-8428</td>\n",
       "      <td>A</td>\n",
       "      <td>Yangon</td>\n",
       "      <td>Member</td>\n",
       "      <td>Female</td>\n",
       "      <td>Health and beauty</td>\n",
       "      <td>74.69</td>\n",
       "      <td>7</td>\n",
       "      <td>26.1415</td>\n",
       "      <td>548.9715</td>\n",
       "      <td>1/5/2019</td>\n",
       "      <td>13:08</td>\n",
       "      <td>Ewallet</td>\n",
       "      <td>522.83</td>\n",
       "      <td>4.761905</td>\n",
       "      <td>26.1415</td>\n",
       "      <td>9.1</td>\n",
       "    </tr>\n",
       "    <tr>\n",
       "      <th>1</th>\n",
       "      <td>226-31-3081</td>\n",
       "      <td>C</td>\n",
       "      <td>Naypyitaw</td>\n",
       "      <td>Normal</td>\n",
       "      <td>Female</td>\n",
       "      <td>Electronic accessories</td>\n",
       "      <td>15.28</td>\n",
       "      <td>5</td>\n",
       "      <td>3.8200</td>\n",
       "      <td>80.2200</td>\n",
       "      <td>3/8/2019</td>\n",
       "      <td>10:29</td>\n",
       "      <td>Cash</td>\n",
       "      <td>76.40</td>\n",
       "      <td>4.761905</td>\n",
       "      <td>3.8200</td>\n",
       "      <td>9.6</td>\n",
       "    </tr>\n",
       "    <tr>\n",
       "      <th>2</th>\n",
       "      <td>631-41-3108</td>\n",
       "      <td>A</td>\n",
       "      <td>Yangon</td>\n",
       "      <td>Normal</td>\n",
       "      <td>Male</td>\n",
       "      <td>Home and lifestyle</td>\n",
       "      <td>46.33</td>\n",
       "      <td>7</td>\n",
       "      <td>16.2155</td>\n",
       "      <td>340.5255</td>\n",
       "      <td>3/3/2019</td>\n",
       "      <td>13:23</td>\n",
       "      <td>Credit card</td>\n",
       "      <td>324.31</td>\n",
       "      <td>4.761905</td>\n",
       "      <td>16.2155</td>\n",
       "      <td>7.4</td>\n",
       "    </tr>\n",
       "    <tr>\n",
       "      <th>3</th>\n",
       "      <td>123-19-1176</td>\n",
       "      <td>A</td>\n",
       "      <td>Yangon</td>\n",
       "      <td>Member</td>\n",
       "      <td>Male</td>\n",
       "      <td>Health and beauty</td>\n",
       "      <td>58.22</td>\n",
       "      <td>8</td>\n",
       "      <td>23.2880</td>\n",
       "      <td>489.0480</td>\n",
       "      <td>1/27/2019</td>\n",
       "      <td>20:33</td>\n",
       "      <td>Ewallet</td>\n",
       "      <td>465.76</td>\n",
       "      <td>4.761905</td>\n",
       "      <td>23.2880</td>\n",
       "      <td>8.4</td>\n",
       "    </tr>\n",
       "    <tr>\n",
       "      <th>4</th>\n",
       "      <td>373-73-7910</td>\n",
       "      <td>A</td>\n",
       "      <td>Yangon</td>\n",
       "      <td>Normal</td>\n",
       "      <td>Male</td>\n",
       "      <td>Sports and travel</td>\n",
       "      <td>86.31</td>\n",
       "      <td>7</td>\n",
       "      <td>30.2085</td>\n",
       "      <td>634.3785</td>\n",
       "      <td>2/8/2019</td>\n",
       "      <td>10:37</td>\n",
       "      <td>Ewallet</td>\n",
       "      <td>604.17</td>\n",
       "      <td>4.761905</td>\n",
       "      <td>30.2085</td>\n",
       "      <td>5.3</td>\n",
       "    </tr>\n",
       "  </tbody>\n",
       "</table>\n",
       "</div>"
      ],
      "text/plain": [
       "    Invoice ID Branch       City Customer type  Gender  \\\n",
       "0  750-67-8428      A     Yangon        Member  Female   \n",
       "1  226-31-3081      C  Naypyitaw        Normal  Female   \n",
       "2  631-41-3108      A     Yangon        Normal    Male   \n",
       "3  123-19-1176      A     Yangon        Member    Male   \n",
       "4  373-73-7910      A     Yangon        Normal    Male   \n",
       "\n",
       "             Product line  Unit price  Quantity   Tax 5%     Total       Date  \\\n",
       "0       Health and beauty       74.69         7  26.1415  548.9715   1/5/2019   \n",
       "1  Electronic accessories       15.28         5   3.8200   80.2200   3/8/2019   \n",
       "2      Home and lifestyle       46.33         7  16.2155  340.5255   3/3/2019   \n",
       "3       Health and beauty       58.22         8  23.2880  489.0480  1/27/2019   \n",
       "4       Sports and travel       86.31         7  30.2085  634.3785   2/8/2019   \n",
       "\n",
       "    Time      Payment    cogs  gross margin percentage  gross income  Rating  \n",
       "0  13:08      Ewallet  522.83                 4.761905       26.1415     9.1  \n",
       "1  10:29         Cash   76.40                 4.761905        3.8200     9.6  \n",
       "2  13:23  Credit card  324.31                 4.761905       16.2155     7.4  \n",
       "3  20:33      Ewallet  465.76                 4.761905       23.2880     8.4  \n",
       "4  10:37      Ewallet  604.17                 4.761905       30.2085     5.3  "
      ]
     },
     "execution_count": 7,
     "metadata": {},
     "output_type": "execute_result"
    }
   ],
   "source": [
    "#let view the data\n",
    "\n",
    "df.head()"
   ]
  },
  {
   "cell_type": "markdown",
   "id": "15412c30",
   "metadata": {},
   "source": [
    ">Data Sanity cHECK"
   ]
  },
  {
   "cell_type": "code",
   "execution_count": 8,
   "id": "6cf1e68c",
   "metadata": {},
   "outputs": [
    {
     "data": {
      "text/plain": [
       "Invoice ID                 0\n",
       "Branch                     0\n",
       "City                       0\n",
       "Customer type              0\n",
       "Gender                     0\n",
       "Product line               0\n",
       "Unit price                 0\n",
       "Quantity                   0\n",
       "Tax 5%                     0\n",
       "Total                      0\n",
       "Date                       0\n",
       "Time                       0\n",
       "Payment                    0\n",
       "cogs                       0\n",
       "gross margin percentage    0\n",
       "gross income               0\n",
       "Rating                     0\n",
       "dtype: int64"
      ]
     },
     "execution_count": 8,
     "metadata": {},
     "output_type": "execute_result"
    }
   ],
   "source": [
    "#ckecking for missing columns\n",
    "\n",
    "\n",
    "df.isnull().sum()"
   ]
  },
  {
   "cell_type": "code",
   "execution_count": 9,
   "id": "ed56fb82",
   "metadata": {},
   "outputs": [],
   "source": [
    "#converting the date data type to date\n",
    "\n",
    "df['Date']=pd.to_datetime(df['Date'],errors='coerce')"
   ]
  },
  {
   "cell_type": "code",
   "execution_count": 10,
   "id": "a78930cc",
   "metadata": {},
   "outputs": [
    {
     "data": {
      "text/plain": [
       "pandas._libs.tslibs.timestamps.Timestamp"
      ]
     },
     "execution_count": 10,
     "metadata": {},
     "output_type": "execute_result"
    }
   ],
   "source": [
    "#for confirmation \n",
    "\n",
    "type(df['Date'][0])"
   ]
  },
  {
   "cell_type": "code",
   "execution_count": 11,
   "id": "77eed901",
   "metadata": {},
   "outputs": [
    {
     "name": "stdout",
     "output_type": "stream",
     "text": [
      "<class 'pandas.core.frame.DataFrame'>\n",
      "RangeIndex: 1000 entries, 0 to 999\n",
      "Data columns (total 17 columns):\n",
      " #   Column                   Non-Null Count  Dtype         \n",
      "---  ------                   --------------  -----         \n",
      " 0   Invoice ID               1000 non-null   object        \n",
      " 1   Branch                   1000 non-null   object        \n",
      " 2   City                     1000 non-null   object        \n",
      " 3   Customer type            1000 non-null   object        \n",
      " 4   Gender                   1000 non-null   object        \n",
      " 5   Product line             1000 non-null   object        \n",
      " 6   Unit price               1000 non-null   float64       \n",
      " 7   Quantity                 1000 non-null   int64         \n",
      " 8   Tax 5%                   1000 non-null   float64       \n",
      " 9   Total                    1000 non-null   float64       \n",
      " 10  Date                     1000 non-null   datetime64[ns]\n",
      " 11  Time                     1000 non-null   object        \n",
      " 12  Payment                  1000 non-null   object        \n",
      " 13  cogs                     1000 non-null   float64       \n",
      " 14  gross margin percentage  1000 non-null   float64       \n",
      " 15  gross income             1000 non-null   float64       \n",
      " 16  Rating                   1000 non-null   float64       \n",
      "dtypes: datetime64[ns](1), float64(7), int64(1), object(8)\n",
      "memory usage: 132.9+ KB\n"
     ]
    }
   ],
   "source": [
    "#checking the data info\n",
    "\n",
    "df.info()"
   ]
  },
  {
   "cell_type": "code",
   "execution_count": 12,
   "id": "246c7200",
   "metadata": {},
   "outputs": [],
   "source": [
    "#creating a def function to work alone the analysis\n",
    "\n",
    "def table(df):\n",
    "    for col in df:\n",
    "        if df[col].dtypes=='object': # CALLING THE DATA TYPE\n",
    "            print(f\"{col}:{df[col].unique()}\") "
   ]
  },
  {
   "cell_type": "code",
   "execution_count": 13,
   "id": "6411b57e",
   "metadata": {},
   "outputs": [
    {
     "name": "stdout",
     "output_type": "stream",
     "text": [
      "Invoice ID:['750-67-8428' '226-31-3081' '631-41-3108' '123-19-1176' '373-73-7910'\n",
      " '699-14-3026' '355-53-5943' '315-22-5665' '665-32-9167' '692-92-5582'\n",
      " '351-62-0822' '529-56-3974' '365-64-0515' '252-56-2699' '829-34-3910'\n",
      " '299-46-1805' '656-95-9349' '765-26-6951' '329-62-1586' '319-50-3348'\n",
      " '300-71-4605' '371-85-5789' '273-16-6619' '636-48-8204' '549-59-1358'\n",
      " '227-03-5010' '649-29-6775' '189-17-4241' '145-94-9061' '848-62-7243'\n",
      " '871-79-8483' '149-71-6266' '640-49-2076' '595-11-5460' '183-56-6882'\n",
      " '232-16-2483' '129-29-8530' '272-65-1806' '333-73-7901' '777-82-7220'\n",
      " '280-35-5823' '554-53-8700' '354-25-5821' '228-96-1411' '617-15-4209'\n",
      " '132-32-9879' '370-41-7321' '727-46-3608' '669-54-1719' '574-22-5561'\n",
      " '326-78-5178' '162-48-8011' '616-24-2851' '778-71-5554' '242-55-6721'\n",
      " '399-46-5918' '106-35-6779' '635-40-6220' '817-48-8732' '120-06-4233'\n",
      " '285-68-5083' '803-83-5989' '347-34-2234' '199-75-8169' '853-23-2453'\n",
      " '877-22-3308' '838-78-4295' '109-28-2512' '232-11-3025' '382-03-4532'\n",
      " '393-65-2792' '796-12-2025' '510-95-6347' '841-35-6630' '287-21-9091'\n",
      " '732-94-0499' '263-10-3913' '381-20-0914' '829-49-1914' '756-01-7507'\n",
      " '870-72-4431' '847-38-7188' '480-63-2856' '787-56-0757' '360-39-5055'\n",
      " '730-50-9884' '362-58-8315' '633-44-8566' '504-35-8843' '318-68-5053'\n",
      " '565-80-5980' '225-32-0908' '873-51-0671' '152-08-9985' '512-91-0811'\n",
      " '594-34-4444' '766-85-7061' '871-39-9221' '865-92-6136' '733-01-9107'\n",
      " '163-56-7055' '189-98-2939' '551-21-3069' '212-62-1842' '716-39-1409'\n",
      " '704-48-3927' '628-34-3388' '630-74-5166' '588-01-7461' '861-77-0145'\n",
      " '479-26-8945' '210-67-5886' '227-78-1148' '645-44-1170' '237-01-6122'\n",
      " '225-98-1496' '291-32-1427' '659-65-8956' '642-32-2990' '378-24-2715'\n",
      " '638-60-7125' '659-36-1684' '219-22-9386' '336-78-2147' '268-27-6179'\n",
      " '668-90-8900' '870-54-3162' '189-08-9157' '663-86-9076' '549-84-7482'\n",
      " '191-10-6171' '802-70-5316' '695-51-0018' '590-83-4591' '483-71-1164'\n",
      " '597-78-7908' '700-81-1757' '354-39-5160' '241-72-9525' '575-30-8091'\n",
      " '731-81-9469' '280-17-4359' '338-65-2210' '488-25-4221' '239-10-7476'\n",
      " '458-41-1477' '685-64-1609' '568-90-5112' '262-47-2794' '238-49-0436'\n",
      " '608-96-3517' '584-86-7256' '746-94-0204' '214-17-6927' '400-89-4171'\n",
      " '782-95-9291' '279-74-2924' '307-85-2293' '743-04-1105' '423-57-2993'\n",
      " '894-41-5205' '275-28-0149' '101-17-6199' '423-80-0988' '548-46-9322'\n",
      " '505-02-0892' '234-65-2137' '687-47-8271' '796-32-9050' '105-31-1824'\n",
      " '249-42-3782' '316-55-4634' '733-33-4967' '608-27-6295' '414-12-7047'\n",
      " '827-26-2100' '175-54-2529' '139-52-2867' '407-63-8975' '342-65-4817'\n",
      " '130-98-8941' '434-83-9547' '851-28-6367' '824-88-3614' '586-25-0848'\n",
      " '895-66-0685' '305-14-0245' '732-04-5373' '400-60-7251' '593-65-1552'\n",
      " '284-34-9626' '437-58-8131' '286-43-6208' '641-43-2399' '831-07-6050'\n",
      " '556-86-3144' '848-24-9445' '856-22-8149' '699-01-4164' '420-11-4919'\n",
      " '606-80-4905' '542-41-0513' '426-39-2418' '875-46-5808' '394-43-4238'\n",
      " '749-24-1565' '672-51-8681' '263-87-5680' '573-58-9734' '817-69-8206'\n",
      " '888-02-0338' '677-11-0152' '142-63-6033' '656-16-1063' '891-58-8335'\n",
      " '802-43-8934' '560-30-5617' '319-74-2561' '549-03-9315' '790-29-1172'\n",
      " '239-36-3640' '468-01-2051' '389-25-3394' '279-62-1445' '213-72-6612'\n",
      " '746-68-6593' '836-82-5858' '583-72-1480' '466-61-5506' '721-86-6247'\n",
      " '289-65-5721' '545-46-3100' '418-02-5978' '269-04-5750' '157-13-5295'\n",
      " '645-78-8093' '211-30-9270' '755-12-3214' '346-84-3103' '478-06-7835'\n",
      " '540-11-4336' '448-81-5016' '142-72-4741' '217-58-1179' '376-02-8238'\n",
      " '530-90-9855' '866-05-7563' '604-70-6476' '799-71-1548' '785-13-7708'\n",
      " '845-51-0542' '662-47-5456' '883-17-4236' '290-68-2984' '704-11-6354'\n",
      " '110-48-7033' '366-93-0948' '729-09-9681' '151-16-1484' '380-94-4661'\n",
      " '850-41-9669' '821-07-3596' '655-85-5130' '447-15-7839' '154-74-7179'\n",
      " '253-12-6086' '808-65-0703' '571-94-0759' '144-51-6085' '731-14-2199'\n",
      " '783-09-1637' '687-15-1097' '126-54-1082' '633-91-1052' '477-24-6490'\n",
      " '566-19-5475' '526-86-8552' '376-56-3573' '537-72-0426' '828-61-5674'\n",
      " '136-08-6195' '523-38-0215' '490-29-1201' '667-92-0055' '565-17-3836'\n",
      " '498-41-1961' '593-95-4461' '226-71-3580' '283-79-9594' '430-60-3493'\n",
      " '139-20-0155' '558-80-4082' '278-97-7759' '316-68-6352' '585-03-5943'\n",
      " '211-05-0490' '727-75-6477' '744-02-5987' '307-83-9164' '779-06-0012'\n",
      " '446-47-6729' '573-10-3877' '735-06-4124' '439-54-7422' '396-90-2219'\n",
      " '411-77-0180' '286-01-5402' '803-17-8013' '512-98-1403' '848-42-2560'\n",
      " '532-59-7201' '181-94-6432' '870-76-1733' '423-64-4619' '227-07-4446'\n",
      " '174-36-3675' '428-83-5800' '603-07-0961' '704-20-4138' '787-15-1757'\n",
      " '649-11-3678' '622-20-1945' '372-94-8041' '563-91-7120' '746-54-5508'\n",
      " '276-54-0879' '815-11-1168' '719-76-3868' '730-61-8757' '340-66-0321'\n",
      " '868-81-1752' '634-97-8956' '566-71-1091' '442-48-3607' '835-16-0096'\n",
      " '527-09-6272' '898-04-2717' '692-27-8933' '633-09-3463' '374-17-3652'\n",
      " '378-07-7001' '433-75-6987' '873-95-4984' '416-13-5917' '150-89-8043'\n",
      " '135-84-8019' '441-94-7118' '725-96-3778' '531-80-1784' '400-45-1220'\n",
      " '860-79-0874' '834-61-8124' '115-99-4379' '565-67-6697' '320-49-6392'\n",
      " '889-04-9723' '632-90-0281' '554-42-2417' '453-63-6187' '578-80-7669'\n",
      " '612-36-5536' '605-72-4132' '471-41-2823' '462-67-9126' '272-27-9238'\n",
      " '834-25-9262' '122-61-9553' '468-88-0009' '613-59-9758' '254-31-0042'\n",
      " '201-86-2184' '261-12-8671' '730-70-9830' '382-25-8917' '422-29-8786'\n",
      " '667-23-5919' '843-01-4703' '743-88-1662' '595-86-2894' '182-69-8360'\n",
      " '289-15-7034' '462-78-5240' '868-52-7573' '153-58-4872' '662-72-2873'\n",
      " '525-88-7307' '689-16-9784' '725-56-0833' '394-41-0748' '596-42-3999'\n",
      " '541-89-9860' '173-82-9529' '563-36-9814' '308-47-4913' '885-17-6250'\n",
      " '726-27-2396' '316-01-3952' '760-54-1821' '793-10-3222' '346-12-3257'\n",
      " '110-05-6330' '651-61-0874' '236-86-3015' '831-64-0259' '587-03-7455'\n",
      " '882-40-4577' '732-67-5346' '725-32-9708' '256-08-8343' '372-26-1506'\n",
      " '244-08-0162' '569-71-4390' '132-23-6451' '696-90-2548' '472-15-9636'\n",
      " '268-03-6164' '750-57-9686' '186-09-3669' '848-07-1692' '745-71-3520'\n",
      " '266-76-6436' '740-22-2500' '271-88-8734' '301-81-8610' '489-64-4354'\n",
      " '198-84-7132' '269-10-8440' '650-98-6268' '741-73-3559' '325-77-6186'\n",
      " '286-75-7818' '574-57-9721' '459-50-7686' '616-87-0016' '837-55-7229'\n",
      " '751-69-0068' '257-73-1380' '345-08-4992' '549-96-4200' '810-60-6344'\n",
      " '450-28-2866' '394-30-3170' '138-17-5109' '192-98-7397' '301-11-9629'\n",
      " '390-80-5128' '235-46-8343' '453-12-7053' '296-11-7041' '449-27-2918'\n",
      " '891-01-7034' '744-09-5786' '727-17-0390' '568-88-3448' '187-83-5490'\n",
      " '767-54-1907' '710-46-4433' '533-33-5337' '325-90-8763' '729-46-7422'\n",
      " '639-76-1242' '234-03-4040' '326-71-2155' '320-32-8842' '470-32-9057'\n",
      " '878-30-2331' '440-59-5691' '554-53-3790' '746-19-0921' '233-34-0817'\n",
      " '767-05-1286' '340-21-9136' '405-31-3305' '731-59-7531' '676-39-6028'\n",
      " '502-05-1910' '485-30-8700' '598-47-9715' '701-69-8742' '575-67-1508'\n",
      " '541-08-3113' '246-11-3901' '674-15-9296' '305-18-3552' '493-65-6248'\n",
      " '438-01-4015' '709-58-4068' '795-49-7276' '556-72-8512' '627-95-3243'\n",
      " '686-41-0932' '510-09-5628' '608-04-3797' '148-82-2527' '437-53-3084'\n",
      " '632-32-4574' '556-97-7101' '862-59-8517' '401-18-8016' '420-18-8989'\n",
      " '277-63-2961' '573-98-8548' '620-02-2046' '282-35-2475' '511-54-3087'\n",
      " '726-29-6793' '387-49-4215' '862-17-9201' '291-21-5991' '602-80-9671'\n",
      " '347-72-6115' '209-61-0206' '595-27-4851' '189-52-0236' '503-07-0930'\n",
      " '413-20-6708' '425-85-2085' '521-18-7827' '220-28-1851' '600-38-9738'\n",
      " '734-91-1155' '451-28-5717' '609-81-8548' '133-14-7229' '534-01-4457'\n",
      " '719-89-8991' '286-62-6248' '339-38-9982' '827-44-5872' '827-77-7633'\n",
      " '287-83-1405' '435-13-4908' '857-67-9057' '236-27-1144' '892-05-6689'\n",
      " '583-41-4548' '339-12-4827' '643-38-7867' '308-81-0538' '358-88-9262'\n",
      " '460-35-4390' '343-87-0864' '173-50-1108' '243-47-2663' '841-18-8232'\n",
      " '701-23-5550' '647-50-1224' '541-48-8554' '539-21-7227' '213-32-1216'\n",
      " '747-58-7183' '582-52-8065' '210-57-1719' '399-69-4630' '134-75-2619'\n",
      " '356-44-8813' '198-66-9832' '283-26-5248' '712-39-0363' '218-59-9410'\n",
      " '174-75-0888' '866-99-7614' '134-54-4720' '760-90-2357' '514-37-2845'\n",
      " '698-98-5964' '718-57-9773' '651-88-7328' '241-11-2261' '408-26-9866'\n",
      " '834-83-1826' '343-61-3544' '239-48-4278' '355-34-6244' '550-84-8664'\n",
      " '339-96-8318' '458-61-0011' '592-34-6155' '797-88-0493' '207-73-1363'\n",
      " '390-31-6381' '443-82-0585' '339-18-7061' '359-90-3665' '375-72-3056'\n",
      " '127-47-6963' '278-86-2735' '695-28-6250' '379-17-6588' '227-50-3718'\n",
      " '302-15-2162' '788-07-8452' '560-49-6611' '880-35-0356' '585-11-6748'\n",
      " '470-31-3286' '152-68-2907' '123-35-4896' '258-69-7810' '334-64-2006'\n",
      " '219-61-4139' '881-41-7302' '373-09-4567' '642-30-6693' '484-22-8230'\n",
      " '830-58-2383' '559-98-9873' '544-32-5024' '318-12-0304' '349-97-8902'\n",
      " '421-95-9805' '277-35-5865' '789-23-8625' '284-54-4231' '443-59-0061'\n",
      " '509-29-3912' '327-40-9673' '840-19-2096' '828-46-6863' '641-96-3695'\n",
      " '420-97-3340' '436-54-4512' '670-79-6321' '852-62-7105' '598-06-7312'\n",
      " '135-13-8269' '816-57-2053' '628-90-8624' '856-66-2701' '308-39-1707'\n",
      " '149-61-1929' '655-07-2265' '589-02-8023' '420-04-7590' '182-88-2763'\n",
      " '188-55-0967' '610-46-4100' '318-81-2368' '364-33-8584' '665-63-9737'\n",
      " '695-09-5146' '155-45-3814' '794-32-2436' '131-15-8856' '273-84-2164'\n",
      " '706-36-6154' '778-89-7974' '574-31-8277' '859-71-0933' '740-11-5257'\n",
      " '369-82-2676' '563-47-4072' '742-04-5161' '149-15-7606' '133-77-3154'\n",
      " '169-52-4504' '250-81-7186' '562-12-5430' '816-72-8853' '491-38-3499'\n",
      " '322-02-2271' '842-29-4695' '725-67-2480' '641-51-2661' '714-02-3114'\n",
      " '518-17-2983' '779-42-2410' '190-14-3147' '408-66-6712' '679-22-6530'\n",
      " '588-47-8641' '642-61-4706' '576-31-4774' '556-41-6224' '811-03-8790'\n",
      " '242-11-3142' '752-23-3760' '274-05-5470' '648-94-3045' '130-67-4723'\n",
      " '528-87-5606' '320-85-2052' '370-96-0655' '105-10-6182' '510-79-0415'\n",
      " '241-96-5076' '767-97-4650' '648-83-1321' '173-57-2300' '305-03-2383'\n",
      " '394-55-6384' '266-20-6657' '689-05-1884' '196-01-2849' '372-62-5264'\n",
      " '800-09-8606' '182-52-7000' '826-58-8051' '868-06-0466' '751-41-9720'\n",
      " '626-43-7888' '176-64-7711' '191-29-0321' '729-06-2010' '640-48-5028'\n",
      " '186-79-9562' '834-45-5519' '162-65-8559' '760-27-5490' '445-30-9252'\n",
      " '786-94-2700' '728-88-7867' '183-21-3799' '268-20-3585' '735-32-9839'\n",
      " '258-92-7466' '857-16-3520' '482-17-1179' '788-21-5741' '821-14-9046'\n",
      " '418-05-0656' '678-79-0726' '776-68-1096' '592-46-1692' '434-35-9162'\n",
      " '149-14-0304' '442-44-6497' '174-64-0215' '210-74-9613' '299-29-0180'\n",
      " '247-11-2470' '635-28-5728' '756-49-0168' '438-23-1242' '238-45-6950'\n",
      " '607-65-2441' '386-27-7606' '137-63-5492' '197-77-7132' '805-86-0265'\n",
      " '733-29-1227' '451-73-2711' '373-14-0504' '546-80-2899' '345-68-9016'\n",
      " '390-17-5806' '457-13-1708' '664-14-2882' '487-79-6868' '314-23-4520'\n",
      " '210-30-7976' '585-86-8361' '807-14-7833' '775-72-1988' '288-38-3758'\n",
      " '652-43-6591' '785-96-0615' '406-46-7107' '250-17-5703' '156-95-3964'\n",
      " '842-40-8179' '525-09-8450' '410-67-1709' '587-73-4862' '787-87-2010'\n",
      " '593-14-4239' '801-88-0346' '388-76-2555' '711-31-1234' '886-54-6089'\n",
      " '707-32-7409' '759-98-4285' '201-63-8275' '471-06-8611' '200-16-5952'\n",
      " '120-54-2248' '102-77-2261' '875-31-8302' '102-06-2002' '457-94-0464'\n",
      " '629-42-4133' '534-53-3526' '307-04-2070' '468-99-7231' '516-77-6464'\n",
      " '404-91-5964' '886-77-9084' '790-38-4466' '704-10-4056' '497-37-6538'\n",
      " '651-96-5970' '400-80-4065' '744-16-7898' '263-12-5321' '702-72-0487'\n",
      " '605-83-1050' '443-60-9639' '864-24-7918' '359-94-5395' '401-09-4232'\n",
      " '751-15-6198' '324-41-6833' '474-33-8305' '759-29-9521' '831-81-6575'\n",
      " '220-68-6701' '618-34-8551' '257-60-7754' '559-61-5987' '189-55-2313'\n",
      " '565-91-4567' '380-60-5336' '815-04-6282' '674-56-6360' '778-34-2523'\n",
      " '499-27-7781' '477-59-2456' '832-51-6761' '869-11-3082' '190-59-3964'\n",
      " '366-43-6862' '186-43-8965' '784-21-9238' '276-75-6884' '109-86-4363'\n",
      " '569-76-2760' '222-42-0244' '760-53-9233' '538-22-0304' '416-17-9926'\n",
      " '237-44-6163' '636-17-0325' '343-75-9322' '528-14-9470' '427-45-9297'\n",
      " '807-34-3742' '288-62-1085' '670-71-7306' '660-29-7083' '271-77-8740'\n",
      " '497-36-0989' '291-59-1384' '860-73-6466' '549-23-9016' '896-34-0956'\n",
      " '804-38-3935' '585-90-0249' '862-29-5914' '845-94-6841' '125-45-2293'\n",
      " '843-73-4724' '409-33-9708' '658-66-3967' '866-70-2814' '160-22-2687'\n",
      " '895-03-6665' '770-42-8960' '748-45-2862' '234-36-2483' '316-66-3011'\n",
      " '848-95-6252' '840-76-5966' '152-03-4217' '533-66-5566' '124-31-1458'\n",
      " '176-78-1170' '361-59-0574' '101-81-4070' '631-34-1880' '852-82-2749'\n",
      " '873-14-6353' '584-66-4073' '544-55-9589' '166-19-2553' '737-88-5876'\n",
      " '154-87-7367' '885-56-0389' '608-05-3804' '448-61-3783' '761-49-0439'\n",
      " '490-95-0021' '115-38-7388' '311-13-6971' '291-55-6563' '548-48-3156'\n",
      " '460-93-5834' '325-89-4209' '884-80-6021' '137-74-8729' '880-46-5796'\n",
      " '389-70-2397' '114-35-5271' '607-76-6216' '715-20-1673' '811-35-1094'\n",
      " '699-88-1972' '781-84-8059' '409-49-6995' '725-54-0677' '146-09-5432'\n",
      " '377-79-7592' '509-10-0516' '595-94-9924' '865-41-9075' '545-07-8534'\n",
      " '118-62-1812' '450-42-3339' '851-98-3555' '186-71-5196' '624-01-8356'\n",
      " '313-66-9943' '151-27-8496' '453-33-6436' '522-57-8364' '459-45-2396'\n",
      " '717-96-4189' '722-13-2115' '749-81-8133' '777-67-2495' '636-98-3364'\n",
      " '246-55-6923' '181-82-6255' '838-02-1821' '887-42-0517' '457-12-0244'\n",
      " '226-34-0034' '321-49-7382' '397-25-8725' '431-66-2305' '825-94-5922'\n",
      " '641-62-7288' '756-93-1854' '243-55-8457' '458-10-8612' '501-61-1753'\n",
      " '235-06-8510' '433-08-7822' '361-85-2571' '131-70-8179' '500-02-2261'\n",
      " '720-72-2436' '702-83-5291' '809-69-9497' '449-16-6770' '333-23-2632'\n",
      " '489-82-1237' '859-97-6048' '676-10-2200' '373-88-1424' '365-16-4334'\n",
      " '503-21-4385' '305-89-2768' '574-80-1489' '784-08-0310' '200-40-6154'\n",
      " '846-10-0341' '577-34-7579' '430-02-3888' '867-47-1948' '384-59-6655'\n",
      " '256-58-3609' '324-92-3863' '593-08-5916' '364-34-2972' '794-42-3736'\n",
      " '172-42-8274' '558-60-5016' '195-06-0432' '605-03-2706' '214-30-2776'\n",
      " '746-04-1077' '448-34-8700' '452-04-8808' '531-56-4728' '744-82-9138'\n",
      " '883-69-1285' '221-25-5073' '518-71-6847' '156-20-0370' '151-33-7434'\n",
      " '728-47-9078' '809-46-1866' '139-32-4183' '148-41-7930' '189-40-5216'\n",
      " '374-38-5555' '764-44-8999' '552-44-5977' '267-62-7380' '430-53-4718'\n",
      " '886-18-2897' '602-16-6955' '745-74-0715' '690-01-6631' '652-49-6720'\n",
      " '233-67-5758' '303-96-2227' '727-02-1313' '347-56-2442' '849-09-3807']\n",
      "Branch:['A' 'C' 'B']\n",
      "City:['Yangon' 'Naypyitaw' 'Mandalay']\n",
      "Customer type:['Member' 'Normal']\n",
      "Gender:['Female' 'Male']\n",
      "Product line:['Health and beauty' 'Electronic accessories' 'Home and lifestyle'\n",
      " 'Sports and travel' 'Food and beverages' 'Fashion accessories']\n",
      "Time:['13:08' '10:29' '13:23' '20:33' '10:37' '18:30' '14:36' '11:38' '17:15'\n",
      " '13:27' '18:07' '17:03' '10:25' '16:48' '19:21' '16:19' '11:03' '10:39'\n",
      " '18:00' '15:30' '11:24' '10:40' '12:20' '11:15' '17:36' '19:20' '15:31'\n",
      " '12:17' '19:48' '15:36' '19:39' '12:43' '14:49' '10:12' '10:42' '12:28'\n",
      " '19:15' '17:17' '13:24' '13:01' '18:45' '10:11' '13:03' '20:39' '19:47'\n",
      " '17:24' '15:47' '12:45' '17:08' '10:19' '15:10' '14:42' '15:46' '11:49'\n",
      " '19:01' '11:26' '11:28' '15:55' '20:36' '17:47' '10:55' '13:40' '12:27'\n",
      " '14:35' '16:40' '15:43' '15:01' '10:04' '18:50' '12:46' '18:17' '18:21'\n",
      " '17:04' '14:20' '15:48' '16:24' '18:56' '19:56' '18:37' '10:17' '14:31'\n",
      " '10:23' '20:35' '16:57' '17:55' '19:54' '16:42' '12:09' '20:05' '20:38'\n",
      " '13:11' '10:16' '18:14' '13:22' '11:27' '16:44' '18:19' '14:50' '20:54'\n",
      " '20:19' '10:43' '14:30' '11:32' '10:41' '12:44' '20:07' '20:31' '12:29'\n",
      " '15:26' '20:48' '12:02' '17:26' '19:52' '14:57' '18:44' '13:26' '16:17'\n",
      " '15:57' '13:18' '20:34' '18:36' '14:40' '16:43' '20:59' '15:39' '12:21'\n",
      " '19:25' '13:00' '13:48' '19:57' '10:36' '16:37' '17:11' '15:07' '16:07'\n",
      " '11:56' '18:23' '13:05' '19:40' '13:58' '14:43' '19:18' '16:21' '19:44'\n",
      " '19:42' '15:24' '14:12' '13:32' '16:20' '16:31' '11:36' '19:17' '17:34'\n",
      " '12:04' '17:01' '10:50' '19:16' '16:47' '10:00' '11:51' '15:00' '11:19'\n",
      " '19:46' '19:00' '10:53' '12:50' '20:50' '13:41' '19:08' '20:23' '11:30'\n",
      " '19:30' '18:03' '10:13' '19:58' '10:01' '11:57' '10:02' '14:51' '12:42'\n",
      " '17:38' '20:24' '18:08' '15:53' '15:05' '18:27' '16:55' '12:58' '18:59'\n",
      " '13:44' '13:46' '18:06' '12:38' '15:56' '14:29' '19:14' '10:52' '12:55'\n",
      " '19:28' '13:52' '10:54' '18:31' '18:24' '18:09' '15:16' '17:07' '19:26'\n",
      " '11:20' '16:49' '12:01' '11:25' '18:42' '14:47' '19:43' '14:04' '16:11'\n",
      " '19:06' '15:34' '11:22' '11:23' '10:46' '13:25' '14:53' '19:22' '11:00'\n",
      " '19:24' '17:22' '20:55' '16:05' '13:34' '18:13' '11:44' '15:51' '16:52'\n",
      " '20:52' '16:28' '13:29' '11:09' '15:02' '14:21' '18:01' '13:30' '14:38'\n",
      " '17:37' '17:20' '20:29' '11:46' '13:42' '14:44' '14:16' '15:54' '10:21'\n",
      " '16:46' '20:14' '17:09' '17:43' '19:05' '10:08' '13:12' '20:51' '17:29'\n",
      " '11:34' '18:58' '20:26' '15:08' '13:21' '12:48' '19:53' '19:09' '16:30'\n",
      " '13:07' '18:48' '17:27' '15:59' '11:21' '15:49' '13:02' '20:21' '15:04'\n",
      " '16:10' '12:14' '11:06' '18:22' '19:02' '15:44' '20:01' '13:45' '15:40'\n",
      " '16:58' '11:12' '15:12' '20:37' '17:44' '16:23' '12:12' '19:33' '14:28'\n",
      " '17:54' '12:25' '12:52' '19:50' '15:32' '13:19' '13:37' '14:55' '12:31'\n",
      " '10:26' '20:18' '20:04' '13:38' '17:30' '15:28' '19:07' '18:55' '19:36'\n",
      " '10:57' '17:13' '13:57' '13:53' '16:53' '16:51' '15:37' '20:15' '19:35'\n",
      " '15:42' '14:11' '17:58' '11:02' '15:09' '13:47' '16:59' '14:15' '15:19'\n",
      " '18:33' '12:10' '11:40' '16:54' '15:25' '20:47' '18:20' '11:48' '14:14'\n",
      " '11:17' '12:40' '17:53' '16:36' '10:48' '18:05' '12:07' '19:49' '15:52'\n",
      " '20:46' '10:34' '13:55' '11:43' '16:03' '20:03' '19:41' '18:04' '10:31'\n",
      " '13:28' '17:16' '18:43' '10:30' '20:40' '12:08' '17:45' '10:28' '10:49'\n",
      " '12:34' '18:51' '19:38' '12:32' '10:33' '19:55' '14:33' '13:54' '12:15'\n",
      " '12:37' '15:06' '15:58' '14:03' '16:38' '11:07' '12:23' '14:13' '19:11'\n",
      " '18:53' '14:22' '10:06' '20:08' '12:56' '10:18' '11:45' '16:08' '12:24'\n",
      " '19:51' '18:10' '15:27' '16:04' '14:41' '14:19' '14:08' '11:29' '12:16'\n",
      " '20:00' '15:29' '14:58' '11:52' '17:46' '14:45' '11:39' '13:06' '20:43'\n",
      " '16:34' '13:10' '17:10' '10:22' '19:29' '14:27' '12:22' '11:59' '17:59'\n",
      " '12:51' '13:56' '19:45' '16:18' '18:57' '11:18' '14:06' '20:13' '15:14'\n",
      " '16:06' '12:47' '20:42' '20:10' '14:24' '11:42' '17:49' '15:33' '10:38'\n",
      " '12:39' '14:26' '12:41' '15:20' '16:33' '20:44' '11:16' '12:30' '17:48'\n",
      " '20:30' '13:59' '11:58' '16:50' '18:02' '17:52' '20:32' '16:09' '11:33'\n",
      " '15:15' '20:06' '16:26' '18:38' '16:45' '18:41' '17:12' '14:00' '16:32'\n",
      " '10:10' '10:05' '18:15' '11:01' '15:21' '16:16' '11:05' '19:31' '18:35'\n",
      " '13:51' '12:35' '11:55' '15:11' '14:48' '12:36' '13:35' '15:45' '14:25'\n",
      " '15:18' '10:03' '13:14' '16:35' '20:57' '13:50' '17:35' '17:56' '10:44'\n",
      " '10:09' '10:58' '13:49' '11:10' '13:33' '14:05' '16:27' '15:23' '18:18'\n",
      " '15:17' '19:12']\n",
      "Payment:['Ewallet' 'Cash' 'Credit card']\n"
     ]
    }
   ],
   "source": [
    "table(df)"
   ]
  },
  {
   "cell_type": "code",
   "execution_count": 14,
   "id": "75d83e96",
   "metadata": {},
   "outputs": [],
   "source": [
    "#Dropping the Time columnss.\n",
    "\n",
    "df=df.drop('Time',axis=1)"
   ]
  },
  {
   "cell_type": "code",
   "execution_count": 15,
   "id": "f99a6510",
   "metadata": {},
   "outputs": [
    {
     "name": "stdout",
     "output_type": "stream",
     "text": [
      "the Uniquness of Each columns are Invoice ID: 1000\n",
      "the Uniquness of Each columns are Branch: 3\n",
      "the Uniquness of Each columns are City: 3\n",
      "the Uniquness of Each columns are Customer type: 2\n",
      "the Uniquness of Each columns are Gender: 2\n",
      "the Uniquness of Each columns are Product line: 6\n",
      "the Uniquness of Each columns are Unit price: 943\n",
      "the Uniquness of Each columns are Quantity: 10\n",
      "the Uniquness of Each columns are Tax 5%: 990\n",
      "the Uniquness of Each columns are Total: 990\n",
      "the Uniquness of Each columns are Date: 89\n",
      "the Uniquness of Each columns are Payment: 3\n",
      "the Uniquness of Each columns are cogs: 990\n",
      "the Uniquness of Each columns are gross margin percentage: 1\n",
      "the Uniquness of Each columns are gross income: 990\n",
      "the Uniquness of Each columns are Rating: 61\n"
     ]
    }
   ],
   "source": [
    "#checking for the Uniqueness of the dataset.\n",
    "\n",
    "for i in df.columns:\n",
    "        print('the Uniquness of Each columns are {}: {}'.format(i,df[i].nunique()))"
   ]
  },
  {
   "cell_type": "code",
   "execution_count": 16,
   "id": "d531405c",
   "metadata": {},
   "outputs": [],
   "source": [
    "#the creating adefine function for it.\n",
    "\n",
    "\n",
    "def cols(df):\n",
    "    for i in df.columns:\n",
    "        print('the Uniquness of Each columns are {}: {}'.format(i,df[i].nunique()))"
   ]
  },
  {
   "cell_type": "code",
   "execution_count": 17,
   "id": "8354352a",
   "metadata": {},
   "outputs": [
    {
     "name": "stdout",
     "output_type": "stream",
     "text": [
      "the Uniquness of Each columns are Invoice ID: 1000\n",
      "the Uniquness of Each columns are Branch: 3\n",
      "the Uniquness of Each columns are City: 3\n",
      "the Uniquness of Each columns are Customer type: 2\n",
      "the Uniquness of Each columns are Gender: 2\n",
      "the Uniquness of Each columns are Product line: 6\n",
      "the Uniquness of Each columns are Unit price: 943\n",
      "the Uniquness of Each columns are Quantity: 10\n",
      "the Uniquness of Each columns are Tax 5%: 990\n",
      "the Uniquness of Each columns are Total: 990\n",
      "the Uniquness of Each columns are Date: 89\n",
      "the Uniquness of Each columns are Payment: 3\n",
      "the Uniquness of Each columns are cogs: 990\n",
      "the Uniquness of Each columns are gross margin percentage: 1\n",
      "the Uniquness of Each columns are gross income: 990\n",
      "the Uniquness of Each columns are Rating: 61\n"
     ]
    }
   ],
   "source": [
    "cols(df)"
   ]
  },
  {
   "cell_type": "markdown",
   "id": "a52350a1",
   "metadata": {},
   "source": [
    ">Data Sanity Check ✅✅✅"
   ]
  },
  {
   "cell_type": "markdown",
   "id": "92ce8b74",
   "metadata": {},
   "source": [
    "Explorative Data Analysis "
   ]
  },
  {
   "cell_type": "code",
   "execution_count": 18,
   "id": "34ec4fb0",
   "metadata": {},
   "outputs": [
    {
     "name": "stdout",
     "output_type": "stream",
     "text": [
      "The Stores has 3 Branches, \n",
      "And operated in 3 city,\n",
      "The City the Store Operated in :['Yangon' 'Naypyitaw' 'Mandalay'], \n",
      "nd Each Store is name has ['A' 'C' 'B'].\n"
     ]
    }
   ],
   "source": [
    "#WritING Short note about the Stores\n",
    "\n",
    "Branches=df['Branch'].nunique()\n",
    "City=df['City'].nunique()\n",
    "operated=df['City'].unique()\n",
    "brach=df['Branch'].unique()\n",
    "\n",
    "print(f'The Stores has {Branches} Branches, \\nAnd operated in {City} city,\\nThe City the Store Operated in :{operated}, \\nnd Each Store is name has {brach}.')"
   ]
  },
  {
   "cell_type": "code",
   "execution_count": 19,
   "id": "6ad805c5",
   "metadata": {},
   "outputs": [
    {
     "data": {
      "text/plain": [
       "<AxesSubplot:title={'center':'Custumer Type'}, ylabel='Customer type'>"
      ]
     },
     "execution_count": 19,
     "metadata": {},
     "output_type": "execute_result"
    },
    {
     "data": {
      "image/png": "[encoded data removed]",
      "text/plain": [
       "<Figure size 1200x700 with 2 Axes>"
      ]
     },
     "metadata": {},
     "output_type": "display_data"
    }
   ],
   "source": [
    "#plotting out the characters, \n",
    "\n",
    "fig,ax=plt.subplots(1,2)\n",
    "df['Gender'].value_counts().plot(kind='pie',explode=[0.01,0.01],figsize=(12,7),title='Gender',autopct='%1.2f%%',ax=ax[0])\n",
    "df['Customer type'].value_counts().plot(kind='pie',explode=[0.01,0.01],figsize=(12,7),title='Custumer Type',autopct='%1.2f%%',ax=ax[1])"
   ]
  },
  {
   "cell_type": "code",
   "execution_count": 20,
   "id": "da2e3309",
   "metadata": {},
   "outputs": [
    {
     "name": "stderr",
     "output_type": "stream",
     "text": [
      "C:\\Users\\HP\\anaconda3\\lib\\site-packages\\seaborn\\_decorators.py:36: FutureWarning: Pass the following variable as a keyword arg: x. From version 0.12, the only valid positional argument will be `data`, and passing other arguments without an explicit keyword will result in an error or misinterpretation.\n",
      "  warnings.warn(\n"
     ]
    },
    {
     "data": {
      "text/plain": [
       "Text(0.5, 1.0, 'ProductLine By Custumer Type')"
      ]
     },
     "execution_count": 20,
     "metadata": {},
     "output_type": "execute_result"
    },
    {
     "data": {
      "image/png": "[encoded data removed]",
      "text/plain": [
       "<Figure size 2000x500 with 1 Axes>"
      ]
     },
     "metadata": {},
     "output_type": "display_data"
    }
   ],
   "source": [
    "#plotting out thhe characters\n",
    "\n",
    "plt.figure(figsize=(20,5),dpi=100)\n",
    "sns.countplot(df['Product line'],hue=df['Customer type'])\n",
    "plt.title('ProductLine By Custumer Type')"
   ]
  },
  {
   "cell_type": "code",
   "execution_count": 21,
   "id": "632c4498",
   "metadata": {},
   "outputs": [
    {
     "name": "stdout",
     "output_type": "stream",
     "text": [
      "the Uniquness of Each columns are Invoice ID: 1000\n",
      "the Uniquness of Each columns are Branch: 3\n",
      "the Uniquness of Each columns are City: 3\n",
      "the Uniquness of Each columns are Customer type: 2\n",
      "the Uniquness of Each columns are Gender: 2\n",
      "the Uniquness of Each columns are Product line: 6\n",
      "the Uniquness of Each columns are Unit price: 943\n",
      "the Uniquness of Each columns are Quantity: 10\n",
      "the Uniquness of Each columns are Tax 5%: 990\n",
      "the Uniquness of Each columns are Total: 990\n",
      "the Uniquness of Each columns are Date: 89\n",
      "the Uniquness of Each columns are Payment: 3\n",
      "the Uniquness of Each columns are cogs: 990\n",
      "the Uniquness of Each columns are gross margin percentage: 1\n",
      "the Uniquness of Each columns are gross income: 990\n",
      "the Uniquness of Each columns are Rating: 61\n"
     ]
    }
   ],
   "source": [
    "cols(df)"
   ]
  },
  {
   "cell_type": "code",
   "execution_count": 22,
   "id": "5c6b6e23",
   "metadata": {},
   "outputs": [
    {
     "name": "stderr",
     "output_type": "stream",
     "text": [
      "C:\\Users\\HP\\anaconda3\\lib\\site-packages\\seaborn\\_decorators.py:36: FutureWarning: Pass the following variable as a keyword arg: x. From version 0.12, the only valid positional argument will be `data`, and passing other arguments without an explicit keyword will result in an error or misinterpretation.\n",
      "  warnings.warn(\n"
     ]
    },
    {
     "data": {
      "image/png": "[encoded data removed]",
      "text/plain": [
       "<Figure size 1500x500 with 1 Axes>"
      ]
     },
     "metadata": {},
     "output_type": "display_data"
    }
   ],
   "source": [
    "#plotting to see the Product Line by Unit Price\n",
    "\n",
    "plt.figure(figsize=(15,5),dpi=100)\n",
    "fig=sns.barplot(df['Product line'],y=df['Unit price'],ci=None)\n",
    "plt.title('ProductLine By UnitPrice')\n",
    "\n",
    "for container in fig.containers:\n",
    "    fig.bar_label(container,label_type='edge',padding=-1)"
   ]
  },
  {
   "cell_type": "markdown",
   "id": "240527d2",
   "metadata": {},
   "source": [
    "> The UnitPrice for ElectronicsAccessories Are the Lowest Price.\n",
    "> while for FashionAccessories is the higestPrice."
   ]
  },
  {
   "cell_type": "code",
   "execution_count": 23,
   "id": "4212cf99",
   "metadata": {},
   "outputs": [],
   "source": [
    "#Extracting The Month name From the date\n",
    "\n",
    "df['Month']=pd.DatetimeIndex(df['Date']).month_name()"
   ]
  },
  {
   "cell_type": "code",
   "execution_count": 24,
   "id": "546b63e2",
   "metadata": {},
   "outputs": [
    {
     "data": {
      "text/html": [
       "<div>\n",
       "<style scoped>\n",
       "    .dataframe tbody tr th:only-of-type {\n",
       "        vertical-align: middle;\n",
       "    }\n",
       "\n",
       "    .dataframe tbody tr th {\n",
       "        vertical-align: top;\n",
       "    }\n",
       "\n",
       "    .dataframe thead th {\n",
       "        text-align: right;\n",
       "    }\n",
       "</style>\n",
       "<table border=\"1\" class=\"dataframe\">\n",
       "  <thead>\n",
       "    <tr style=\"text-align: right;\">\n",
       "      <th></th>\n",
       "      <th>Invoice ID</th>\n",
       "      <th>Branch</th>\n",
       "      <th>City</th>\n",
       "      <th>Customer type</th>\n",
       "      <th>Gender</th>\n",
       "      <th>Product line</th>\n",
       "      <th>Unit price</th>\n",
       "      <th>Quantity</th>\n",
       "      <th>Tax 5%</th>\n",
       "      <th>Total</th>\n",
       "      <th>Date</th>\n",
       "      <th>Payment</th>\n",
       "      <th>cogs</th>\n",
       "      <th>gross margin percentage</th>\n",
       "      <th>gross income</th>\n",
       "      <th>Rating</th>\n",
       "      <th>Month</th>\n",
       "    </tr>\n",
       "  </thead>\n",
       "  <tbody>\n",
       "    <tr>\n",
       "      <th>83</th>\n",
       "      <td>787-56-0757</td>\n",
       "      <td>C</td>\n",
       "      <td>Naypyitaw</td>\n",
       "      <td>Member</td>\n",
       "      <td>Female</td>\n",
       "      <td>Food and beverages</td>\n",
       "      <td>80.36</td>\n",
       "      <td>4</td>\n",
       "      <td>16.072</td>\n",
       "      <td>337.512</td>\n",
       "      <td>2019-02-23</td>\n",
       "      <td>Credit card</td>\n",
       "      <td>321.44</td>\n",
       "      <td>4.761905</td>\n",
       "      <td>16.072</td>\n",
       "      <td>8.3</td>\n",
       "      <td>February</td>\n",
       "    </tr>\n",
       "  </tbody>\n",
       "</table>\n",
       "</div>"
      ],
      "text/plain": [
       "     Invoice ID Branch       City Customer type  Gender        Product line  \\\n",
       "83  787-56-0757      C  Naypyitaw        Member  Female  Food and beverages   \n",
       "\n",
       "    Unit price  Quantity  Tax 5%    Total       Date      Payment    cogs  \\\n",
       "83       80.36         4  16.072  337.512 2019-02-23  Credit card  321.44   \n",
       "\n",
       "    gross margin percentage  gross income  Rating     Month  \n",
       "83                 4.761905        16.072     8.3  February  "
      ]
     },
     "execution_count": 24,
     "metadata": {},
     "output_type": "execute_result"
    }
   ],
   "source": [
    "#for confirmation \n",
    "\n",
    "df.sample()"
   ]
  },
  {
   "cell_type": "code",
   "execution_count": 25,
   "id": "ba75c502",
   "metadata": {},
   "outputs": [
    {
     "data": {
      "text/plain": [
       "array(['January', 'March', 'February'], dtype=object)"
      ]
     },
     "execution_count": 25,
     "metadata": {},
     "output_type": "execute_result"
    }
   ],
   "source": [
    "df['Month'].unique()   #the month Uniqueness"
   ]
  },
  {
   "cell_type": "code",
   "execution_count": 26,
   "id": "d0fbcf3e",
   "metadata": {},
   "outputs": [],
   "source": [
    "#which Month we have more Sales ?\n",
    "\n",
    "\n",
    "data=df.set_index(df['Date'])"
   ]
  },
  {
   "cell_type": "code",
   "execution_count": 27,
   "id": "eb2baa84",
   "metadata": {},
   "outputs": [
    {
     "data": {
      "text/plain": [
       "Date\n",
       "2019-01-31    116291.868\n",
       "2019-02-28     97219.374\n",
       "2019-03-31    109455.507\n",
       "Freq: M, Name: Total, dtype: float64"
      ]
     },
     "execution_count": 27,
     "metadata": {},
     "output_type": "execute_result"
    }
   ],
   "source": [
    "#to calculate the monthly sales\n",
    "\n",
    "(data.assign(Monthly_Sales=data['Total'])).resample('M')['Total'].sum()"
   ]
  },
  {
   "cell_type": "markdown",
   "id": "e70d628f",
   "metadata": {},
   "source": [
    "> That is to Say we only have  data for 3 Month.\n",
    "Jaunary Sales is the top Sales."
   ]
  },
  {
   "cell_type": "code",
   "execution_count": 28,
   "id": "617893a8",
   "metadata": {},
   "outputs": [
    {
     "data": {
      "text/plain": [
       "Date\n",
       "2019-03-09    7474.0470\n",
       "2019-02-07    7228.2105\n",
       "2019-03-14    7214.6340\n",
       "2019-02-15    6830.7855\n",
       "2019-03-02    6560.3055\n",
       "2019-03-05    6230.8785\n",
       "2019-01-23    5994.1875\n",
       "2019-01-15    5944.2600\n",
       "2019-02-27    5859.4515\n",
       "2019-03-19    5740.3920\n",
       "Name: Total, dtype: float64"
      ]
     },
     "execution_count": 28,
     "metadata": {},
     "output_type": "execute_result"
    }
   ],
   "source": [
    "#let Get Daily Sales \n",
    "\n",
    "(data.assign(Daily_Sales=data['Total'])).resample('D')['Total'].sum().sort_values(ascending=False)[:10]"
   ]
  },
  {
   "cell_type": "markdown",
   "id": "2d4cfed1",
   "metadata": {},
   "source": [
    "> On The 09 March, 2019 that when we have the stores recorded Top Daily sales from january to March."
   ]
  },
  {
   "cell_type": "code",
   "execution_count": 29,
   "id": "15d68956",
   "metadata": {},
   "outputs": [
    {
     "data": {
      "text/plain": [
       "Date\n",
       "2019-02-13     934.2375\n",
       "2019-03-18    1292.8335\n",
       "2019-02-21    1393.7385\n",
       "2019-03-07    1438.2585\n",
       "2019-02-18    1496.0295\n",
       "Name: Total, dtype: float64"
      ]
     },
     "execution_count": 29,
     "metadata": {},
     "output_type": "execute_result"
    }
   ],
   "source": [
    "(data.assign(Daily_Sales=data['Total'])).resample('D')['Total'].sum().sort_values(ascending=True)[:5]"
   ]
  },
  {
   "cell_type": "markdown",
   "id": "e822446a",
   "metadata": {},
   "source": [
    "> > On The 13 March, 2019 that when we have the stores recorded Low Daily sales"
   ]
  },
  {
   "cell_type": "code",
   "execution_count": 30,
   "id": "e21bc136",
   "metadata": {},
   "outputs": [
    {
     "data": {
      "text/html": [
       "<div>\n",
       "<style scoped>\n",
       "    .dataframe tbody tr th:only-of-type {\n",
       "        vertical-align: middle;\n",
       "    }\n",
       "\n",
       "    .dataframe tbody tr th {\n",
       "        vertical-align: top;\n",
       "    }\n",
       "\n",
       "    .dataframe thead th {\n",
       "        text-align: right;\n",
       "    }\n",
       "</style>\n",
       "<table border=\"1\" class=\"dataframe\">\n",
       "  <thead>\n",
       "    <tr style=\"text-align: right;\">\n",
       "      <th></th>\n",
       "      <th>Unit price</th>\n",
       "      <th>Quantity</th>\n",
       "      <th>Tax 5%</th>\n",
       "      <th>Total</th>\n",
       "      <th>cogs</th>\n",
       "      <th>gross margin percentage</th>\n",
       "      <th>gross income</th>\n",
       "      <th>Rating</th>\n",
       "    </tr>\n",
       "  </thead>\n",
       "  <tbody>\n",
       "    <tr>\n",
       "      <th>count</th>\n",
       "      <td>1000.000000</td>\n",
       "      <td>1000.000000</td>\n",
       "      <td>1000.000000</td>\n",
       "      <td>1000.000000</td>\n",
       "      <td>1000.00000</td>\n",
       "      <td>1.000000e+03</td>\n",
       "      <td>1000.000000</td>\n",
       "      <td>1000.00000</td>\n",
       "    </tr>\n",
       "    <tr>\n",
       "      <th>mean</th>\n",
       "      <td>55.672130</td>\n",
       "      <td>5.510000</td>\n",
       "      <td>15.379369</td>\n",
       "      <td>322.966749</td>\n",
       "      <td>307.58738</td>\n",
       "      <td>4.761905e+00</td>\n",
       "      <td>15.379369</td>\n",
       "      <td>6.97270</td>\n",
       "    </tr>\n",
       "    <tr>\n",
       "      <th>std</th>\n",
       "      <td>26.494628</td>\n",
       "      <td>2.923431</td>\n",
       "      <td>11.708825</td>\n",
       "      <td>245.885335</td>\n",
       "      <td>234.17651</td>\n",
       "      <td>6.131498e-14</td>\n",
       "      <td>11.708825</td>\n",
       "      <td>1.71858</td>\n",
       "    </tr>\n",
       "    <tr>\n",
       "      <th>min</th>\n",
       "      <td>10.080000</td>\n",
       "      <td>1.000000</td>\n",
       "      <td>0.508500</td>\n",
       "      <td>10.678500</td>\n",
       "      <td>10.17000</td>\n",
       "      <td>4.761905e+00</td>\n",
       "      <td>0.508500</td>\n",
       "      <td>4.00000</td>\n",
       "    </tr>\n",
       "    <tr>\n",
       "      <th>25%</th>\n",
       "      <td>32.875000</td>\n",
       "      <td>3.000000</td>\n",
       "      <td>5.924875</td>\n",
       "      <td>124.422375</td>\n",
       "      <td>118.49750</td>\n",
       "      <td>4.761905e+00</td>\n",
       "      <td>5.924875</td>\n",
       "      <td>5.50000</td>\n",
       "    </tr>\n",
       "    <tr>\n",
       "      <th>50%</th>\n",
       "      <td>55.230000</td>\n",
       "      <td>5.000000</td>\n",
       "      <td>12.088000</td>\n",
       "      <td>253.848000</td>\n",
       "      <td>241.76000</td>\n",
       "      <td>4.761905e+00</td>\n",
       "      <td>12.088000</td>\n",
       "      <td>7.00000</td>\n",
       "    </tr>\n",
       "    <tr>\n",
       "      <th>75%</th>\n",
       "      <td>77.935000</td>\n",
       "      <td>8.000000</td>\n",
       "      <td>22.445250</td>\n",
       "      <td>471.350250</td>\n",
       "      <td>448.90500</td>\n",
       "      <td>4.761905e+00</td>\n",
       "      <td>22.445250</td>\n",
       "      <td>8.50000</td>\n",
       "    </tr>\n",
       "    <tr>\n",
       "      <th>max</th>\n",
       "      <td>99.960000</td>\n",
       "      <td>10.000000</td>\n",
       "      <td>49.650000</td>\n",
       "      <td>1042.650000</td>\n",
       "      <td>993.00000</td>\n",
       "      <td>4.761905e+00</td>\n",
       "      <td>49.650000</td>\n",
       "      <td>10.00000</td>\n",
       "    </tr>\n",
       "  </tbody>\n",
       "</table>\n",
       "</div>"
      ],
      "text/plain": [
       "        Unit price     Quantity       Tax 5%        Total        cogs  \\\n",
       "count  1000.000000  1000.000000  1000.000000  1000.000000  1000.00000   \n",
       "mean     55.672130     5.510000    15.379369   322.966749   307.58738   \n",
       "std      26.494628     2.923431    11.708825   245.885335   234.17651   \n",
       "min      10.080000     1.000000     0.508500    10.678500    10.17000   \n",
       "25%      32.875000     3.000000     5.924875   124.422375   118.49750   \n",
       "50%      55.230000     5.000000    12.088000   253.848000   241.76000   \n",
       "75%      77.935000     8.000000    22.445250   471.350250   448.90500   \n",
       "max      99.960000    10.000000    49.650000  1042.650000   993.00000   \n",
       "\n",
       "       gross margin percentage  gross income      Rating  \n",
       "count             1.000000e+03   1000.000000  1000.00000  \n",
       "mean              4.761905e+00     15.379369     6.97270  \n",
       "std               6.131498e-14     11.708825     1.71858  \n",
       "min               4.761905e+00      0.508500     4.00000  \n",
       "25%               4.761905e+00      5.924875     5.50000  \n",
       "50%               4.761905e+00     12.088000     7.00000  \n",
       "75%               4.761905e+00     22.445250     8.50000  \n",
       "max               4.761905e+00     49.650000    10.00000  "
      ]
     },
     "execution_count": 30,
     "metadata": {},
     "output_type": "execute_result"
    }
   ],
   "source": [
    "df.describe()   # descriptive statistics"
   ]
  },
  {
   "cell_type": "code",
   "execution_count": 31,
   "id": "9aab0cff",
   "metadata": {},
   "outputs": [
    {
     "data": {
      "text/html": [
       "<div>\n",
       "<style scoped>\n",
       "    .dataframe tbody tr th:only-of-type {\n",
       "        vertical-align: middle;\n",
       "    }\n",
       "\n",
       "    .dataframe tbody tr th {\n",
       "        vertical-align: top;\n",
       "    }\n",
       "\n",
       "    .dataframe thead th {\n",
       "        text-align: right;\n",
       "    }\n",
       "</style>\n",
       "<table border=\"1\" class=\"dataframe\">\n",
       "  <thead>\n",
       "    <tr style=\"text-align: right;\">\n",
       "      <th></th>\n",
       "      <th>350</th>\n",
       "      <th>822</th>\n",
       "    </tr>\n",
       "  </thead>\n",
       "  <tbody>\n",
       "    <tr>\n",
       "      <th>Invoice ID</th>\n",
       "      <td>860-79-0874</td>\n",
       "      <td>784-21-9238</td>\n",
       "    </tr>\n",
       "    <tr>\n",
       "      <th>Branch</th>\n",
       "      <td>C</td>\n",
       "      <td>C</td>\n",
       "    </tr>\n",
       "    <tr>\n",
       "      <th>City</th>\n",
       "      <td>Naypyitaw</td>\n",
       "      <td>Naypyitaw</td>\n",
       "    </tr>\n",
       "    <tr>\n",
       "      <th>Customer type</th>\n",
       "      <td>Member</td>\n",
       "      <td>Member</td>\n",
       "    </tr>\n",
       "    <tr>\n",
       "      <th>Gender</th>\n",
       "      <td>Female</td>\n",
       "      <td>Male</td>\n",
       "    </tr>\n",
       "    <tr>\n",
       "      <th>Product line</th>\n",
       "      <td>Fashion accessories</td>\n",
       "      <td>Sports and travel</td>\n",
       "    </tr>\n",
       "    <tr>\n",
       "      <th>Unit price</th>\n",
       "      <td>99.3</td>\n",
       "      <td>10.17</td>\n",
       "    </tr>\n",
       "    <tr>\n",
       "      <th>Quantity</th>\n",
       "      <td>10</td>\n",
       "      <td>1</td>\n",
       "    </tr>\n",
       "    <tr>\n",
       "      <th>Tax 5%</th>\n",
       "      <td>49.65</td>\n",
       "      <td>0.5085</td>\n",
       "    </tr>\n",
       "    <tr>\n",
       "      <th>Total</th>\n",
       "      <td>1042.65</td>\n",
       "      <td>10.6785</td>\n",
       "    </tr>\n",
       "    <tr>\n",
       "      <th>Date</th>\n",
       "      <td>2019-02-15 00:00:00</td>\n",
       "      <td>2019-02-07 00:00:00</td>\n",
       "    </tr>\n",
       "    <tr>\n",
       "      <th>Payment</th>\n",
       "      <td>Credit card</td>\n",
       "      <td>Cash</td>\n",
       "    </tr>\n",
       "    <tr>\n",
       "      <th>cogs</th>\n",
       "      <td>993.0</td>\n",
       "      <td>10.17</td>\n",
       "    </tr>\n",
       "    <tr>\n",
       "      <th>gross margin percentage</th>\n",
       "      <td>4.761905</td>\n",
       "      <td>4.761905</td>\n",
       "    </tr>\n",
       "    <tr>\n",
       "      <th>gross income</th>\n",
       "      <td>49.65</td>\n",
       "      <td>0.5085</td>\n",
       "    </tr>\n",
       "    <tr>\n",
       "      <th>Rating</th>\n",
       "      <td>6.6</td>\n",
       "      <td>5.9</td>\n",
       "    </tr>\n",
       "    <tr>\n",
       "      <th>Month</th>\n",
       "      <td>February</td>\n",
       "      <td>February</td>\n",
       "    </tr>\n",
       "  </tbody>\n",
       "</table>\n",
       "</div>"
      ],
      "text/plain": [
       "                                         350                  822\n",
       "Invoice ID                       860-79-0874          784-21-9238\n",
       "Branch                                     C                    C\n",
       "City                               Naypyitaw            Naypyitaw\n",
       "Customer type                         Member               Member\n",
       "Gender                                Female                 Male\n",
       "Product line             Fashion accessories    Sports and travel\n",
       "Unit price                              99.3                10.17\n",
       "Quantity                                  10                    1\n",
       "Tax 5%                                 49.65               0.5085\n",
       "Total                                1042.65              10.6785\n",
       "Date                     2019-02-15 00:00:00  2019-02-07 00:00:00\n",
       "Payment                          Credit card                 Cash\n",
       "cogs                                   993.0                10.17\n",
       "gross margin percentage             4.761905             4.761905\n",
       "gross income                           49.65               0.5085\n",
       "Rating                                   6.6                  5.9\n",
       "Month                               February             February"
      ]
     },
     "execution_count": 31,
     "metadata": {},
     "output_type": "execute_result"
    }
   ],
   "source": [
    "#Let Get The Custumer Who pay more taxes from the goods gotten from the store?\n",
    "\n",
    "def max_min (X):\n",
    "    minindex=df[X].idxmin()\n",
    "    maxindex=df[X].idxmax()\n",
    "    maxi=pd.DataFrame(df.loc[maxindex,:])\n",
    "    mini=pd.DataFrame(df.loc[minindex,:])\n",
    "    return pd.concat([maxi,mini],axis=1)\n",
    "\n",
    "\n",
    "\n",
    "max_min('Tax 5%')"
   ]
  },
  {
   "cell_type": "markdown",
   "id": "e8690e3c",
   "metadata": {},
   "source": [
    "> On 2019-02-15 is day the store recorded Who pay Most taxes in the store.\n",
    "Custumer who pay Most Taxes is not The same as custumer whho brought plenty items or have the higest rating.\n",
    "but is the custumers who buy the most"
   ]
  },
  {
   "cell_type": "code",
   "execution_count": 32,
   "id": "7db21ab6",
   "metadata": {},
   "outputs": [
    {
     "name": "stdout",
     "output_type": "stream",
     "text": [
      "the Uniquness of Each columns are Invoice ID: 1000\n",
      "the Uniquness of Each columns are Branch: 3\n",
      "the Uniquness of Each columns are City: 3\n",
      "the Uniquness of Each columns are Customer type: 2\n",
      "the Uniquness of Each columns are Gender: 2\n",
      "the Uniquness of Each columns are Product line: 6\n",
      "the Uniquness of Each columns are Unit price: 943\n",
      "the Uniquness of Each columns are Quantity: 10\n",
      "the Uniquness of Each columns are Tax 5%: 990\n",
      "the Uniquness of Each columns are Total: 990\n",
      "the Uniquness of Each columns are Date: 89\n",
      "the Uniquness of Each columns are Payment: 3\n",
      "the Uniquness of Each columns are cogs: 990\n",
      "the Uniquness of Each columns are gross margin percentage: 1\n",
      "the Uniquness of Each columns are gross income: 990\n",
      "the Uniquness of Each columns are Rating: 61\n",
      "the Uniquness of Each columns are Month: 3\n"
     ]
    }
   ],
   "source": [
    "cols(df)"
   ]
  },
  {
   "cell_type": "code",
   "execution_count": 33,
   "id": "c0a383e8",
   "metadata": {},
   "outputs": [
    {
     "data": {
      "text/plain": [
       "Text(0, 0.5, '')"
      ]
     },
     "execution_count": 33,
     "metadata": {},
     "output_type": "execute_result"
    },
    {
     "data": {
      "image/png": "[encoded data removed]",
      "text/plain": [
       "<Figure size 1000x500 with 1 Axes>"
      ]
     },
     "metadata": {},
     "output_type": "display_data"
    }
   ],
   "source": [
    "#let us chck the Most Means of payment?\n",
    "\n",
    "\n",
    "plt.figure(figsize=(10,5),dpi=100)\n",
    "sns.countplot(data=df,x='Payment',hue='Gender')\n",
    "plt.title('Payment By Gender')\n",
    "plt.ylabel('')"
   ]
  },
  {
   "cell_type": "markdown",
   "id": "c7cee915",
   "metadata": {},
   "source": [
    "The Means of Payment custumer used the most is Ewallet, female used it the most while CASH means of payment MALE used it the most."
   ]
  },
  {
   "cell_type": "code",
   "execution_count": 34,
   "id": "4cb0494b",
   "metadata": {},
   "outputs": [
    {
     "data": {
      "image/png": "[encoded data removed]",
      "text/plain": [
       "<Figure size 1000x500 with 1 Axes>"
      ]
     },
     "metadata": {},
     "output_type": "display_data"
    }
   ],
   "source": [
    "#PLOTTING OUT OUT CUSTUMER TYPES BY CITY\n",
    "\n",
    "\n",
    "plt.figure(figsize=(10,5),dpi=100)\n",
    "fig=sns.barplot(data=df,x='City',y='Total',hue='Customer type',ci=None)\n",
    "plt.title('City by Total')\n",
    "\n",
    "for container in fig.containers:\n",
    "    fig.bar_label(container,label_type='edge',padding=-1)"
   ]
  },
  {
   "cell_type": "markdown",
   "id": "bdb9b0af",
   "metadata": {},
   "source": [
    "> In the city of Yangon member gat more Sales.\n",
    "> In The City of Madalay The Member also gat More Sales\n",
    "> lastly in the city of NAyoyitaw The member and The Reaguler contribute equally to the sales."
   ]
  },
  {
   "cell_type": "code",
   "execution_count": 35,
   "id": "f4104e8a",
   "metadata": {},
   "outputs": [
    {
     "data": {
      "text/html": [
       "<div>\n",
       "<style scoped>\n",
       "    .dataframe tbody tr th:only-of-type {\n",
       "        vertical-align: middle;\n",
       "    }\n",
       "\n",
       "    .dataframe tbody tr th {\n",
       "        vertical-align: top;\n",
       "    }\n",
       "\n",
       "    .dataframe thead th {\n",
       "        text-align: right;\n",
       "    }\n",
       "</style>\n",
       "<table border=\"1\" class=\"dataframe\">\n",
       "  <thead>\n",
       "    <tr style=\"text-align: right;\">\n",
       "      <th></th>\n",
       "      <th>Invoice ID</th>\n",
       "      <th>Branch</th>\n",
       "      <th>City</th>\n",
       "      <th>Customer type</th>\n",
       "      <th>Gender</th>\n",
       "      <th>Product line</th>\n",
       "      <th>Unit price</th>\n",
       "      <th>Quantity</th>\n",
       "      <th>Tax 5%</th>\n",
       "      <th>Total</th>\n",
       "      <th>Date</th>\n",
       "      <th>Payment</th>\n",
       "      <th>cogs</th>\n",
       "      <th>gross margin percentage</th>\n",
       "      <th>gross income</th>\n",
       "      <th>Rating</th>\n",
       "      <th>Month</th>\n",
       "    </tr>\n",
       "  </thead>\n",
       "  <tbody>\n",
       "    <tr>\n",
       "      <th>0</th>\n",
       "      <td>750-67-8428</td>\n",
       "      <td>A</td>\n",
       "      <td>Yangon</td>\n",
       "      <td>Member</td>\n",
       "      <td>Female</td>\n",
       "      <td>Health and beauty</td>\n",
       "      <td>74.69</td>\n",
       "      <td>7</td>\n",
       "      <td>26.1415</td>\n",
       "      <td>548.9715</td>\n",
       "      <td>2019-01-05</td>\n",
       "      <td>Ewallet</td>\n",
       "      <td>522.83</td>\n",
       "      <td>4.761905</td>\n",
       "      <td>26.1415</td>\n",
       "      <td>9.1</td>\n",
       "      <td>January</td>\n",
       "    </tr>\n",
       "    <tr>\n",
       "      <th>1</th>\n",
       "      <td>226-31-3081</td>\n",
       "      <td>C</td>\n",
       "      <td>Naypyitaw</td>\n",
       "      <td>Normal</td>\n",
       "      <td>Female</td>\n",
       "      <td>Electronic accessories</td>\n",
       "      <td>15.28</td>\n",
       "      <td>5</td>\n",
       "      <td>3.8200</td>\n",
       "      <td>80.2200</td>\n",
       "      <td>2019-03-08</td>\n",
       "      <td>Cash</td>\n",
       "      <td>76.40</td>\n",
       "      <td>4.761905</td>\n",
       "      <td>3.8200</td>\n",
       "      <td>9.6</td>\n",
       "      <td>March</td>\n",
       "    </tr>\n",
       "    <tr>\n",
       "      <th>2</th>\n",
       "      <td>631-41-3108</td>\n",
       "      <td>A</td>\n",
       "      <td>Yangon</td>\n",
       "      <td>Normal</td>\n",
       "      <td>Male</td>\n",
       "      <td>Home and lifestyle</td>\n",
       "      <td>46.33</td>\n",
       "      <td>7</td>\n",
       "      <td>16.2155</td>\n",
       "      <td>340.5255</td>\n",
       "      <td>2019-03-03</td>\n",
       "      <td>Credit card</td>\n",
       "      <td>324.31</td>\n",
       "      <td>4.761905</td>\n",
       "      <td>16.2155</td>\n",
       "      <td>7.4</td>\n",
       "      <td>March</td>\n",
       "    </tr>\n",
       "    <tr>\n",
       "      <th>3</th>\n",
       "      <td>123-19-1176</td>\n",
       "      <td>A</td>\n",
       "      <td>Yangon</td>\n",
       "      <td>Member</td>\n",
       "      <td>Male</td>\n",
       "      <td>Health and beauty</td>\n",
       "      <td>58.22</td>\n",
       "      <td>8</td>\n",
       "      <td>23.2880</td>\n",
       "      <td>489.0480</td>\n",
       "      <td>2019-01-27</td>\n",
       "      <td>Ewallet</td>\n",
       "      <td>465.76</td>\n",
       "      <td>4.761905</td>\n",
       "      <td>23.2880</td>\n",
       "      <td>8.4</td>\n",
       "      <td>January</td>\n",
       "    </tr>\n",
       "    <tr>\n",
       "      <th>4</th>\n",
       "      <td>373-73-7910</td>\n",
       "      <td>A</td>\n",
       "      <td>Yangon</td>\n",
       "      <td>Normal</td>\n",
       "      <td>Male</td>\n",
       "      <td>Sports and travel</td>\n",
       "      <td>86.31</td>\n",
       "      <td>7</td>\n",
       "      <td>30.2085</td>\n",
       "      <td>634.3785</td>\n",
       "      <td>2019-02-08</td>\n",
       "      <td>Ewallet</td>\n",
       "      <td>604.17</td>\n",
       "      <td>4.761905</td>\n",
       "      <td>30.2085</td>\n",
       "      <td>5.3</td>\n",
       "      <td>February</td>\n",
       "    </tr>\n",
       "  </tbody>\n",
       "</table>\n",
       "</div>"
      ],
      "text/plain": [
       "    Invoice ID Branch       City Customer type  Gender  \\\n",
       "0  750-67-8428      A     Yangon        Member  Female   \n",
       "1  226-31-3081      C  Naypyitaw        Normal  Female   \n",
       "2  631-41-3108      A     Yangon        Normal    Male   \n",
       "3  123-19-1176      A     Yangon        Member    Male   \n",
       "4  373-73-7910      A     Yangon        Normal    Male   \n",
       "\n",
       "             Product line  Unit price  Quantity   Tax 5%     Total       Date  \\\n",
       "0       Health and beauty       74.69         7  26.1415  548.9715 2019-01-05   \n",
       "1  Electronic accessories       15.28         5   3.8200   80.2200 2019-03-08   \n",
       "2      Home and lifestyle       46.33         7  16.2155  340.5255 2019-03-03   \n",
       "3       Health and beauty       58.22         8  23.2880  489.0480 2019-01-27   \n",
       "4       Sports and travel       86.31         7  30.2085  634.3785 2019-02-08   \n",
       "\n",
       "       Payment    cogs  gross margin percentage  gross income  Rating  \\\n",
       "0      Ewallet  522.83                 4.761905       26.1415     9.1   \n",
       "1         Cash   76.40                 4.761905        3.8200     9.6   \n",
       "2  Credit card  324.31                 4.761905       16.2155     7.4   \n",
       "3      Ewallet  465.76                 4.761905       23.2880     8.4   \n",
       "4      Ewallet  604.17                 4.761905       30.2085     5.3   \n",
       "\n",
       "      Month  \n",
       "0   January  \n",
       "1     March  \n",
       "2     March  \n",
       "3   January  \n",
       "4  February  "
      ]
     },
     "execution_count": 35,
     "metadata": {},
     "output_type": "execute_result"
    }
   ],
   "source": [
    "df.head()"
   ]
  },
  {
   "cell_type": "code",
   "execution_count": 36,
   "id": "18b584f7",
   "metadata": {},
   "outputs": [
    {
     "data": {
      "text/html": [
       "<div>\n",
       "<style scoped>\n",
       "    .dataframe tbody tr th:only-of-type {\n",
       "        vertical-align: middle;\n",
       "    }\n",
       "\n",
       "    .dataframe tbody tr th {\n",
       "        vertical-align: top;\n",
       "    }\n",
       "\n",
       "    .dataframe thead th {\n",
       "        text-align: right;\n",
       "    }\n",
       "</style>\n",
       "<table border=\"1\" class=\"dataframe\">\n",
       "  <thead>\n",
       "    <tr style=\"text-align: right;\">\n",
       "      <th></th>\n",
       "      <th>mean</th>\n",
       "      <th>min</th>\n",
       "      <th>max</th>\n",
       "    </tr>\n",
       "    <tr>\n",
       "      <th>Product line</th>\n",
       "      <th></th>\n",
       "      <th></th>\n",
       "      <th></th>\n",
       "    </tr>\n",
       "  </thead>\n",
       "  <tbody>\n",
       "    <tr>\n",
       "      <th>Electronic accessories</th>\n",
       "      <td>319.632538</td>\n",
       "      <td>26.7225</td>\n",
       "      <td>942.4485</td>\n",
       "    </tr>\n",
       "    <tr>\n",
       "      <th>Fashion accessories</th>\n",
       "      <td>305.089298</td>\n",
       "      <td>12.6945</td>\n",
       "      <td>1042.6500</td>\n",
       "    </tr>\n",
       "    <tr>\n",
       "      <th>Food and beverages</th>\n",
       "      <td>322.671517</td>\n",
       "      <td>22.6590</td>\n",
       "      <td>1034.4600</td>\n",
       "    </tr>\n",
       "    <tr>\n",
       "      <th>Health and beauty</th>\n",
       "      <td>323.643020</td>\n",
       "      <td>18.6375</td>\n",
       "      <td>950.2500</td>\n",
       "    </tr>\n",
       "    <tr>\n",
       "      <th>Home and lifestyle</th>\n",
       "      <td>336.636956</td>\n",
       "      <td>14.6790</td>\n",
       "      <td>1023.7500</td>\n",
       "    </tr>\n",
       "    <tr>\n",
       "      <th>Sports and travel</th>\n",
       "      <td>332.065220</td>\n",
       "      <td>10.6785</td>\n",
       "      <td>1002.1200</td>\n",
       "    </tr>\n",
       "  </tbody>\n",
       "</table>\n",
       "</div>"
      ],
      "text/plain": [
       "                              mean      min        max\n",
       "Product line                                          \n",
       "Electronic accessories  319.632538  26.7225   942.4485\n",
       "Fashion accessories     305.089298  12.6945  1042.6500\n",
       "Food and beverages      322.671517  22.6590  1034.4600\n",
       "Health and beauty       323.643020  18.6375   950.2500\n",
       "Home and lifestyle      336.636956  14.6790  1023.7500\n",
       "Sports and travel       332.065220  10.6785  1002.1200"
      ]
     },
     "execution_count": 36,
     "metadata": {},
     "output_type": "execute_result"
    }
   ],
   "source": [
    "df.groupby('Product line')['Total'].agg({'mean','max','min'})"
   ]
  },
  {
   "cell_type": "markdown",
   "id": "0e68c1ef",
   "metadata": {},
   "source": [
    "the minimum unit price of item in stock is Sports and travel."
   ]
  },
  {
   "cell_type": "code",
   "execution_count": 37,
   "id": "65090aea",
   "metadata": {},
   "outputs": [
    {
     "data": {
      "text/html": [
       "<div>\n",
       "<style scoped>\n",
       "    .dataframe tbody tr th:only-of-type {\n",
       "        vertical-align: middle;\n",
       "    }\n",
       "\n",
       "    .dataframe tbody tr th {\n",
       "        vertical-align: top;\n",
       "    }\n",
       "\n",
       "    .dataframe thead th {\n",
       "        text-align: right;\n",
       "    }\n",
       "</style>\n",
       "<table border=\"1\" class=\"dataframe\">\n",
       "  <thead>\n",
       "    <tr style=\"text-align: right;\">\n",
       "      <th></th>\n",
       "      <th>mean</th>\n",
       "      <th>min</th>\n",
       "      <th>max</th>\n",
       "    </tr>\n",
       "    <tr>\n",
       "      <th>Product line</th>\n",
       "      <th></th>\n",
       "      <th></th>\n",
       "      <th></th>\n",
       "    </tr>\n",
       "  </thead>\n",
       "  <tbody>\n",
       "    <tr>\n",
       "      <th>Electronic accessories</th>\n",
       "      <td>53.551588</td>\n",
       "      <td>10.56</td>\n",
       "      <td>99.73</td>\n",
       "    </tr>\n",
       "    <tr>\n",
       "      <th>Fashion accessories</th>\n",
       "      <td>57.153652</td>\n",
       "      <td>10.18</td>\n",
       "      <td>99.89</td>\n",
       "    </tr>\n",
       "    <tr>\n",
       "      <th>Food and beverages</th>\n",
       "      <td>56.008851</td>\n",
       "      <td>10.13</td>\n",
       "      <td>99.79</td>\n",
       "    </tr>\n",
       "    <tr>\n",
       "      <th>Health and beauty</th>\n",
       "      <td>54.854474</td>\n",
       "      <td>10.08</td>\n",
       "      <td>99.96</td>\n",
       "    </tr>\n",
       "    <tr>\n",
       "      <th>Home and lifestyle</th>\n",
       "      <td>55.316937</td>\n",
       "      <td>10.53</td>\n",
       "      <td>99.92</td>\n",
       "    </tr>\n",
       "    <tr>\n",
       "      <th>Sports and travel</th>\n",
       "      <td>56.993253</td>\n",
       "      <td>10.17</td>\n",
       "      <td>99.96</td>\n",
       "    </tr>\n",
       "  </tbody>\n",
       "</table>\n",
       "</div>"
      ],
      "text/plain": [
       "                             mean    min    max\n",
       "Product line                                   \n",
       "Electronic accessories  53.551588  10.56  99.73\n",
       "Fashion accessories     57.153652  10.18  99.89\n",
       "Food and beverages      56.008851  10.13  99.79\n",
       "Health and beauty       54.854474  10.08  99.96\n",
       "Home and lifestyle      55.316937  10.53  99.92\n",
       "Sports and travel       56.993253  10.17  99.96"
      ]
     },
     "execution_count": 37,
     "metadata": {},
     "output_type": "execute_result"
    }
   ],
   "source": [
    "df.groupby('Product line')['Unit price'].agg({'mean','max','min'})"
   ]
  },
  {
   "cell_type": "markdown",
   "id": "a08f5bc0",
   "metadata": {},
   "source": [
    "the minimum unit price of item in stock is Electronic and Accessories"
   ]
  },
  {
   "cell_type": "code",
   "execution_count": 38,
   "id": "7ebfd605",
   "metadata": {},
   "outputs": [
    {
     "data": {
      "image/png": "[encoded data removed]",
      "text/plain": [
       "<Figure size 1300x1000 with 2 Axes>"
      ]
     },
     "metadata": {},
     "output_type": "display_data"
    }
   ],
   "source": [
    "#let check the custumer who brought The Quantity\n",
    "\n",
    "fig,ax=plt.subplots(2,1,figsize=(13,10),dpi=100)\n",
    "sns.barplot(data=df,x='Product line',y='Quantity',hue='Gender',ci=None,ax=ax[0])\n",
    "ax[0].set_title(' Gender by Product Line By Quantity')\n",
    "sns.barplot(data=df,x='Product line',y='Quantity',hue='Customer type',ci=None,ax=ax[1])\n",
    "ax[1].set_title('Product line by Custumer Type By Quantity')\n",
    "\n",
    "fig.tight_layout(pad=5)\n",
    "plt.xticks(rotation=5);"
   ]
  },
  {
   "cell_type": "markdown",
   "id": "fc52ebbd",
   "metadata": {},
   "source": [
    ">> The memeber of the Company are major of the custumers who patronage the copany The most.\n",
    ">> The Female Buy More thinGs from The companies."
   ]
  },
  {
   "cell_type": "code",
   "execution_count": 42,
   "id": "59f2dd86",
   "metadata": {},
   "outputs": [
    {
     "name": "stdout",
     "output_type": "stream",
     "text": [
      "<class 'pandas.core.frame.DataFrame'>\n",
      "RangeIndex: 1000 entries, 0 to 999\n",
      "Data columns (total 17 columns):\n",
      " #   Column                   Non-Null Count  Dtype         \n",
      "---  ------                   --------------  -----         \n",
      " 0   Invoice ID               1000 non-null   object        \n",
      " 1   Branch                   1000 non-null   object        \n",
      " 2   City                     1000 non-null   object        \n",
      " 3   Customer type            1000 non-null   object        \n",
      " 4   Gender                   1000 non-null   object        \n",
      " 5   Product line             1000 non-null   object        \n",
      " 6   Unit price               1000 non-null   float64       \n",
      " 7   Quantity                 1000 non-null   int64         \n",
      " 8   Tax 5%                   1000 non-null   float64       \n",
      " 9   Total                    1000 non-null   float64       \n",
      " 10  Date                     1000 non-null   datetime64[ns]\n",
      " 11  Payment                  1000 non-null   object        \n",
      " 12  cogs                     1000 non-null   float64       \n",
      " 13  gross margin percentage  1000 non-null   float64       \n",
      " 14  gross income             1000 non-null   float64       \n",
      " 15  Rating                   1000 non-null   float64       \n",
      " 16  Month                    1000 non-null   object        \n",
      "dtypes: datetime64[ns](1), float64(7), int64(1), object(8)\n",
      "memory usage: 132.9+ KB\n"
     ]
    }
   ],
   "source": [
    "df.info()"
   ]
  },
  {
   "cell_type": "code",
   "execution_count": 72,
   "id": "d690b67c",
   "metadata": {},
   "outputs": [
    {
     "name": "stdout",
     "output_type": "stream",
     "text": [
      "total Sum of is Unit price :55674\n",
      "total Sum of is Quantity :5512\n",
      "total Sum of is Tax 5% :15381\n",
      "total Sum of is Total :322969\n",
      "total Sum of is cogs :307589\n",
      "total Sum of is gross margin percentage :4764\n",
      "total Sum of is gross income :15381\n",
      "total Sum of is Rating :6975\n"
     ]
    }
   ],
   "source": [
    "#getting the SUM TOTAL OF EACH NUMRIAL COLUMNS\n",
    "\n",
    "for i in df.select_dtypes('number'):\n",
    "    print('total Sum of is {} :{}'.format(i,round(sum(df[i],2))))"
   ]
  },
  {
   "cell_type": "code",
   "execution_count": null,
   "id": "97bc1386",
   "metadata": {},
   "outputs": [],
   "source": []
  }
 ],
 "metadata": {
  "kernelspec": {
   "display_name": "Python 3 (ipykernel)",
   "language": "python",
   "name": "python3"
  },
  "language_info": {
   "codemirror_mode": {
    "name": "ipython",
    "version": 3
   },
   "file_extension": ".py",
   "mimetype": "text/x-python",
   "name": "python",
   "nbconvert_exporter": "python",
   "pygments_lexer": "ipython3",
   "version": "3.9.13"
  }
 },
 "nbformat": 4,
 "nbformat_minor": 5
}
