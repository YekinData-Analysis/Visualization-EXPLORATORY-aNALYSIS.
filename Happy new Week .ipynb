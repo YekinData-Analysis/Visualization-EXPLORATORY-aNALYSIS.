{
 "cells": [
  {
   "cell_type": "code",
   "execution_count": 1,
   "id": "fe5004cc",
   "metadata": {},
   "outputs": [],
   "source": [
    "import pyfiglet\n",
    "import random"
   ]
  },
  {
   "cell_type": "code",
   "execution_count": 2,
   "id": "37d31af7",
   "metadata": {},
   "outputs": [],
   "source": [
    "fonts=['banner3','digital','slant','smscript','standard']"
   ]
  },
  {
   "cell_type": "code",
   "execution_count": 3,
   "id": "61ad4a89",
   "metadata": {},
   "outputs": [],
   "source": [
    "select_color=random.choice(fonts)"
   ]
  },
  {
   "cell_type": "code",
   "execution_count": 5,
   "id": "1519c6a6",
   "metadata": {},
   "outputs": [
    {
     "name": "stdout",
     "output_type": "stream",
     "text": [
      " _   _                           _   _                __        __        _    \n",
      "| | | | __ _ _ __  _ __  _   _  | \\ | | _____      __ \\ \\      / /__  ___| | __\n",
      "| |_| |/ _` | '_ \\| '_ \\| | | | |  \\| |/ _ \\ \\ /\\ / /  \\ \\ /\\ / / _ \\/ _ \\ |/ /\n",
      "|  _  | (_| | |_) | |_) | |_| | | |\\  |  __/\\ V  V /    \\ V  V /  __/  __/   < \n",
      "|_| |_|\\__,_| .__/| .__/ \\__, | |_| \\_|\\___| \\_/\\_/      \\_/\\_/ \\___|\\___|_|\\_\\\n",
      "            |_|   |_|    |___/                                                 \n",
      " _   _                           ____        _                  \n",
      "| | | | __ _ _ __  _ __  _   _  / ___|  __ _| | __ _ _ __ _   _ \n",
      "| |_| |/ _` | '_ \\| '_ \\| | | | \\___ \\ / _` | |/ _` | '__| | | |\n",
      "|  _  | (_| | |_) | |_) | |_| |  ___) | (_| | | (_| | |  | |_| |\n",
      "|_| |_|\\__,_| .__/| .__/ \\__, | |____/ \\__,_|_|\\__,_|_|   \\__, |\n",
      "            |_|   |_|    |___/                            |___/ \n",
      "__        __        _    \n",
      "\\ \\      / /__  ___| | __\n",
      " \\ \\ /\\ / / _ \\/ _ \\ |/ /\n",
      "  \\ V  V /  __/  __/   < \n",
      "   \\_/\\_/ \\___|\\___|_|\\_\\\n",
      "                         \n",
      "\n"
     ]
    }
   ],
   "source": [
    "Text=pyfiglet.figlet_format('Happy New Week \\\n",
    "Happy Salary Week😂😂😂')\n",
    "\n",
    "print(Text)"
   ]
  },
  {
   "cell_type": "code",
   "execution_count": null,
   "id": "d38be1be",
   "metadata": {},
   "outputs": [],
   "source": []
  }
 ],
 "metadata": {
  "kernelspec": {
   "display_name": "Python 3 (ipykernel)",
   "language": "python",
   "name": "python3"
  },
  "language_info": {
   "codemirror_mode": {
    "name": "ipython",
    "version": 3
   },
   "file_extension": ".py",
   "mimetype": "text/x-python",
   "name": "python",
   "nbconvert_exporter": "python",
   "pygments_lexer": "ipython3",
   "version": "3.9.13"
  }
 },
 "nbformat": 4,
 "nbformat_minor": 5
}
